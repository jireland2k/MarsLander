{
 "cells": [
  {
   "cell_type": "code",
   "execution_count": 22,
   "metadata": {
    "nbgrader": {
     "grade": false,
     "grade_id": "cell-9b76470e7dc3a34c",
     "locked": true,
     "schema_version": 3,
     "solution": false
    }
   },
   "outputs": [],
   "source": [
    "import numpy as np\n",
    "import matplotlib.pyplot as plt\n",
    "\n",
    "from numpy.random import randint\n",
    "from numpy.linalg import norm\n",
    "\n",
    "from ipywidgets import interactive\n",
    "\n",
    "from matplotlib import rcParams"
   ]
  },
  {
   "cell_type": "code",
   "execution_count": 26,
   "metadata": {},
   "outputs": [],
   "source": [
    "rcParams['figure.figsize'] = (10, 8)"
   ]
  },
  {
   "cell_type": "markdown",
   "metadata": {
    "nbgrader": {
     "grade": false,
     "grade_id": "cell-caae5ad78e3e1899",
     "locked": true,
     "schema_version": 3,
     "solution": false
    }
   },
   "source": [
    "## Mars Lander Demo\n",
    "\n",
    "The goal for this assigment is to safely land the \"Mars Lander\" shuttle. Mars Lander is guided by a program, and right now the failure rate for landing on the NASA simulator is unacceptable.\n",
    "\n",
    "The simulator puts Mars Lander on a limited zone of Mars sky. The zone is 7000m wide and 3000m high.\n",
    "\n",
    "There is a unique area of flat ground on the surface of Mars, which is at least 1000 meters wide. Every second, depending on the current flight parameters (location, speed, fuel ...), your program must provide the new desired tilt angle and thrust power of Mars Lander:\n",
    "\n",
    "<img src=\"https://www.codingame.com/fileservlet?id=2635325710601\">\n",
    "\n",
    "Angle goes from -90 degrees to 90 degrees. Thrust power goes from 0 to 4.\n",
    "\n",
    "<img src=\"https://www.codingame.com/fileservlet?id=957023678862\" width=\"300px\">\n",
    "\n",
    "We will simulate a free fall without atmosphere. Gravity on Mars is 3.711 m/$^2$. For a thrust power of $X$, a force equivalent to $X$ m/s$2$ is generated and $X$ litres of fuel are consumed per second. As such, a thrust power of 4 in an almost vertical direction is needed to compensate for the gravity on Mars.\n",
    "\n",
    "For a landing to be successful, the ship must:\n",
    "- land on flat ground\n",
    "- land in a vertical position (tilt angle = 0°)\n",
    "- vertical speed must be limited (<40m/s in absolute value)\n",
    "- horizontal speed must be limited (<20m/s in absolute value)\n",
    "\n",
    "## Initialization\n",
    "\n",
    "The function `mars_surface()` returns an array of size `(surfaceN, 2)` containing the points used to draw the surface of Mars and an integer `landing_site` giving the index of the row in this array containing the left-hand end of the flat landing site. \n",
    "\n",
    "Each row is a pair of integers `landX`,`landY` providing the coordinates of a ground point. By linking all the points together in a sequential fashion, you form the surface of Mars which is composed of several segments. For the first point, `landX = 0` and for the last point, `landX = 6999`"
   ]
  },
  {
   "cell_type": "code",
   "execution_count": 185,
   "metadata": {
    "nbgrader": {
     "grade": false,
     "grade_id": "cell-3884250dd1133146",
     "locked": true,
     "schema_version": 3,
     "solution": false
    }
   },
   "outputs": [],
   "source": [
    "def mars_surface():\n",
    "    surfaceN = randint(5, 15)\n",
    "    land = np.zeros((surfaceN, 2), dtype=int)\n",
    "    \n",
    "    # first ensure there's a flat landing site at least 1000m long\n",
    "    landing_site = randint(1, surfaceN-1)\n",
    "    land[landing_site, 0] = randint(2000, 5000)\n",
    "    land[landing_site+1, 0] = min(land[landing_site, 0] + randint(1000, 2000), 6999)\n",
    "    land[landing_site+1, 1] = land[landing_site, 1] = randint(1, 1500)\n",
    "    \n",
    "    # fill in the rest of the terrain\n",
    "    for i in range(landing_site):\n",
    "        land[i, 0] = (land[landing_site, 0] / landing_site) * i\n",
    "        land[i, 1] = randint(0, 1500)\n",
    "    \n",
    "    for i in range(landing_site + 2, surfaceN):\n",
    "        land[i, 0] = (land[landing_site + 1, 0] + \n",
    "                      (7000 - land[landing_site + 1, 0]) / len(land[landing_site + 2:]) * \n",
    "                      (i - (landing_site + 1)))\n",
    "        land[i, 1] = randint(0, 1500)\n",
    "    \n",
    "    # impose boundary conditions\n",
    "    land[0, 0] = 0\n",
    "    land[-1, 0] = 6999\n",
    "\n",
    "    return land, landing_site\n",
    "\n",
    "def plot_surface(land, landing_site):\n",
    "    fig, ax = plt.subplots()\n",
    "    ax.plot(land[:landing_site+1, 0], land[:landing_site+1, 1], 'k-')\n",
    "    ax.plot(land[landing_site+1:, 0], land[landing_site+1:, 1], 'k-')\n",
    "    ax.plot([land[landing_site, 0], land[landing_site+1, 0]], \n",
    "             [land[landing_site, 1], land[landing_site+1, 1]], 'k--')\n",
    "    ax.set_xlim(0, 7000)\n",
    "    ax.set_ylim(0, 3000)\n",
    "    return ax\n",
    "\n",
    "def plot_lander(land, landing_site, X, thrust=None, animate=False, step=10):\n",
    "    if animate:\n",
    "        def plot_frame(n=len(X)-1):\n",
    "            ax = plot_surface(land, landing_site)\n",
    "            ax.plot(X[:n, 0], X[:n, 1], 'b--')\n",
    "            ax.plot(X[n, 0], X[n, 1], 'b^', ms=20)\n",
    "            if thrust is not None:\n",
    "                ax.plot([X[n, 0], X[n, 0] - 100*thrust[n, 0]],\n",
    "                        [X[n, 1] - 100., X[n, 1] - 100. - 100*thrust[n, 1]], \n",
    "                       'r-', lw=10)\n",
    "        return interactive(plot_frame, n=(0, len(X), step))\n",
    "    else:\n",
    "        ax = plot_surface(land, landing_site) \n",
    "        ax.plot(X[:, 0], X[:, 1], 'b--')\n",
    "        ax.plot(X[-1, 0], X[-1, 1], 'b^')\n",
    "        return ax"
   ]
  },
  {
   "cell_type": "markdown",
   "metadata": {},
   "source": [
    "\n",
    "The `plot_surface()` function provided can be used to visualise the terrain. The flat landing site is shown with a dashed line. Try it out as follows:"
   ]
  },
  {
   "cell_type": "code",
   "execution_count": 186,
   "metadata": {},
   "outputs": [
    {
     "data": {
      "image/png": "[encoded data removed]",
      "text/plain": [
       "<Figure size 720x576 with 1 Axes>"
      ]
     },
     "metadata": {
      "needs_background": "light"
     },
     "output_type": "display_data"
    }
   ],
   "source": [
    "np.random.seed(42) # seed random number generator for reproducible results\n",
    "land, landing_site = mars_surface()\n",
    "plot_surface(land, landing_site);"
   ]
  },
  {
   "cell_type": "markdown",
   "metadata": {},
   "source": [
    "To simulate the lander we need to be able to tell whether a given point `X = [x, y]` is above or below this surface."
   ]
  },
  {
   "cell_type": "code",
   "execution_count": 187,
   "metadata": {
    "nbgrader": {
     "grade": false,
     "grade_id": "cell-3001fc998934e179",
     "locked": true,
     "schema_version": 3,
     "solution": false
    }
   },
   "outputs": [],
   "source": [
    "def interpolate_surface(land, x):\n",
    "    i,  = np.argwhere(land[:, 0] < x)[-1] # segment containing x is [i, i+1]\n",
    "    m = (land[i+1, 1] - land[i, 1])/(land[i+1, 0] - land[i, 0]) # gradient\n",
    "    x1, y1 = land[i, :] # point on line with eqn. y - y1 = m(x - x1) \n",
    "    return m*(x - x1) + y1"
   ]
  },
  {
   "cell_type": "markdown",
   "metadata": {
    "nbgrader": {
     "grade": false,
     "grade_id": "cell-fb91d13bc0029e67",
     "locked": true,
     "schema_version": 3,
     "solution": false
    }
   },
   "source": [
    "**Question 1. (10 marks)** Look at the `interpolate_surface()` function defined above. What do you think it does? Write a short description of how it works, suitable for inclusion as a comment in the code."
   ]
  },
  {
   "cell_type": "code",
   "execution_count": 188,
   "metadata": {
    "nbgrader": {
     "grade": false,
     "grade_id": "cell-3001fc998934e179",
     "locked": true,
     "schema_version": 3,
     "solution": false
    }
   },
   "outputs": [
    {
     "data": {
      "text/plain": [
       "[<matplotlib.lines.Line2D at 0x119b059d0>]"
      ]
     },
     "execution_count": 188,
     "metadata": {},
     "output_type": "execute_result"
    },
    {
     "data": {
      "image/png": "[encoded data removed]",
      "text/plain": [
       "<Figure size 720x576 with 1 Axes>"
      ]
     },
     "metadata": {
      "needs_background": "light"
     },
     "output_type": "display_data"
    }
   ],
   "source": [
    "x = 2000 # try varying x and testing if function works as expected\n",
    "y = interpolate_surface(land, x)\n",
    "plot_surface(land, landing_site)\n",
    "plt.plot(x, y, 'bo')"
   ]
  },
  {
   "cell_type": "markdown",
   "metadata": {
    "nbgrader": {
     "grade": false,
     "grade_id": "cell-4454b0cfc6e61f90",
     "locked": true,
     "schema_version": 3,
     "solution": false
    }
   },
   "source": [
    "**Question 2. (10 marks)** Write a function `height(land, X)` which returns the vertical height of the lander above the surface of Mars defined by the array `land` when it has coordinates `X = [x, y]`. You will find your answer to **Q1** and the function `interpolate_surface()` useful.\n",
    "    "
   ]
  },
  {
   "cell_type": "code",
   "execution_count": 189,
   "metadata": {
    "nbgrader": {
     "grade": false,
     "grade_id": "cell-273c9e13ee9d3f92",
     "locked": false,
     "schema_version": 3,
     "solution": true
    }
   },
   "outputs": [],
   "source": [
    "def height(land, X):\n",
    "    return X[1] - interpolate_surface(land, X[0])"
   ]
  },
  {
   "cell_type": "code",
   "execution_count": 190,
   "metadata": {
    "nbgrader": {
     "grade": true,
     "grade_id": "cell-24dfa319d17aec00",
     "locked": true,
     "points": 10,
     "schema_version": 3,
     "solution": false
    }
   },
   "outputs": [],
   "source": [
    "assert abs(height(land, [1, land[0, 1]])) < 100.0 # height when on surface left edge should be close to zero\n",
    "assert abs(height(land, [6999, land[-1, 1]])) < 100.0 # height when on surface at right edge should be close to zero\n",
    "\n",
    "_land, _landing_site = mars_surface()\n",
    "def _height(_land, X):\n",
    "    return X[1] - interpolate_surface(_land, X[0])\n",
    "\n",
    "points = np.zeros((10, 2))\n",
    "points[:, 0] = randint(0, 7000, size=10)\n",
    "points[:, 1] = randint(0, 3000, size=10)\n",
    "for i in range(10):\n",
    "    assert abs(height(_land, points[i, :]) - _height(_land, points[i, :])) < 1e-6"
   ]
  },
  {
   "cell_type": "markdown",
   "metadata": {
    "nbgrader": {
     "grade": false,
     "grade_id": "cell-b206149110a9dc23",
     "locked": true,
     "schema_version": 3,
     "solution": false
    }
   },
   "source": [
    "## Numerical Solution of the equations of motion\n",
    "\n",
    "You are provided with a function `simulate()` which solves the equations of motion for the Mars lander using the semi-implicit Euler method presented in Lecture 4. It takes the initial position of the lander `X0` (2-element vector for `X` and `Y` coordinates), its initial velocity `V0`, and the array `land` and integer `landing_site` returned by `mars_surface()` as arguments. The horizontal and verticals accelerations of the lander are given by\n",
    "\n",
    "$$\\ddot{x} = P \\cos \\theta$$\n",
    "$$\\ddot{y} = -g + P \\sin \\theta$$\n",
    "\n",
    "where $g$ is the accleration due to gravity and $\\mathbf{t} = (P \\sin \\theta, P \\cos \\theta)$ is the thrust provided by the thruster with power $P$, $0 < P < 4$ at angle $\\theta$, with $-90^\\circ < \\theta < 90^\\circ$.\n",
    "\n",
    "Additional optional arguments can be used to specify the amount of fuel, timestep `dt`, maximum number of steps `T`, whether to enable an autopilot to control the thruster power (not used initially, see below) and how often to print output.\n",
    "\n",
    "Compare this code to the `symplectic_euler()` function given in Lecture 4 - the only differences are in initialisation, autopilot (see below) and error checking, with the core algorithm unchanged."
   ]
  },
  {
   "cell_type": "code",
   "execution_count": 191,
   "metadata": {
    "nbgrader": {
     "grade": false,
     "grade_id": "cell-dfae72388ef16749",
     "locked": true,
     "schema_version": 3,
     "solution": false
    }
   },
   "outputs": [],
   "source": [
    "g = 3.711 # m/s^2, gravity on Mars\n",
    "\n",
    "def simulate(X0, V0, land, landing_site, \n",
    "             fuel=200, dt=0.1, Nstep=1000, \n",
    "             autopilot=None, print_interval=100):\n",
    "    \n",
    "    n = len(X0)       # number of degrees of freedom (2 here)\n",
    "    X = X0.copy()     # current position\n",
    "    V = V0.copy()     # current velocity\n",
    "    Xs = np.zeros((Nstep, n)) # position history (trajectory) \n",
    "    Vs = np.zeros((Nstep, n)) # velocity history\n",
    "    thrust = np.zeros((Nstep, n)) # thrust history\n",
    "    success = False\n",
    "    fuel_warning_printed = False\n",
    "    rotate = 0           # degrees, initial angle\n",
    "    power = 0            # m/s^2, initial thrust power    \n",
    "    \n",
    "    for i in range(Nstep):\n",
    "        Xs[i, :] = X     # Store positions\n",
    "        Vs[i, :] = V     # Store velocities\n",
    "        \n",
    "        if autopilot is not None:\n",
    "            # call user-supplied function to set `rotate` and `power`\n",
    "            rotate, power = autopilot(i, X, V, fuel, rotate, power)\n",
    "            assert abs(rotate) <= 90\n",
    "            assert 0 <= power <= 4\n",
    "        \n",
    "            rotate_rad = rotate * np.pi / 180.0 # degrees to radians\n",
    "            thrust[i, :] = power * np.array([np.sin(rotate_rad), \n",
    "                                             np.cos(rotate_rad)])\n",
    "            if fuel <= 0: \n",
    "                if not fuel_warning_printed:\n",
    "                    print(\"Fuel empty! Setting thrust to zero\")\n",
    "                    fuel_warning_printed = True\n",
    "                thrust[i, :] = 0\n",
    "            else:\n",
    "                fuel -= power*dt\n",
    "        \n",
    "        A = np.array([0, -g]) + thrust[i, :] # acceleration\n",
    "        V += A * dt                          # update velocities\n",
    "        X += V * dt                          # update positions\n",
    "        \n",
    "        if i % print_interval == 0: \n",
    "            print(f\"i={i:03d} X=[{X[0]:8.3f} {X[1]:8.3f}] V=[{V[0]:8.3f} {V[1]:8.3f}]\"\n",
    "                  f\" thrust=[{thrust[i, 0]:8.3f} {thrust[i, 1]:8.3f}] fuel={fuel:8.3f}\")\n",
    "        \n",
    "        # check for safe or crash landing\n",
    "        if X[1] < interpolate_surface(land, X[0]):\n",
    "            if not (land[landing_site, 0] <= X[0] and X[0] <= land[landing_site + 1, 0]):\n",
    "                print(\"crash! did jot land on flat ground!\")\n",
    "            elif rotate != 0:\n",
    "                print(\"crash! did not land in a vertical position (tilt angle = 0 degrees)\")\n",
    "            elif abs(V[1]) >= 40:\n",
    "                print(\"crash! vertical speed must be limited (<40m/s in absolute value), got \", abs(V[1]))\n",
    "            elif abs(V[0]) >= 20:\n",
    "                print(\"crash! horizontal speed must be limited (<20m/s in absolute value), got \", abs(V[0]))\n",
    "            else:\n",
    "                print(\"safe landing - well done!\")\n",
    "                success = True\n",
    "            Nstep = i\n",
    "            break\n",
    "    \n",
    "    return Xs[:Nstep,:], Vs[:Nstep,:], thrust[:Nstep,:], success"
   ]
  },
  {
   "cell_type": "markdown",
   "metadata": {
    "nbgrader": {
     "grade": false,
     "grade_id": "cell-f38d7aac7f88d940",
     "locked": true,
     "schema_version": 3,
     "solution": false
    }
   },
   "source": [
    "Let's try it out for a simplified case where the lander starts directly above the landing site and the thruster is not used:"
   ]
  },
  {
   "cell_type": "code",
   "execution_count": 192,
   "metadata": {
    "scrolled": false
   },
   "outputs": [
    {
     "name": "stdout",
     "output_type": "stream",
     "text": [
      "i=000 X=[3495.000 2999.963] V=[   0.000   -0.371] thrust=[   0.000    0.000] fuel= 200.000\n",
      "i=100 X=[3495.000 2808.846] V=[   0.000  -37.481] thrust=[   0.000    0.000] fuel= 200.000\n",
      "i=200 X=[3495.000 2246.630] V=[   0.000  -74.591] thrust=[   0.000    0.000] fuel= 200.000\n",
      "i=300 X=[3495.000 1313.313] V=[   0.000 -111.701] thrust=[   0.000    0.000] fuel= 200.000\n",
      "crash! vertical speed must be limited (<40m/s in absolute value), got  117.63869999999959\n"
     ]
    },
    {
     "data": {
      "application/vnd.jupyter.widget-view+json": {
       "model_id": "eaf28884bd374c2fb3369db77dabe1b0",
       "version_major": 2,
       "version_minor": 0
      },
      "text/plain": [
       "interactive(children=(IntSlider(value=315, description='n', max=316, step=10), Output()), _dom_classes=('widge…"
      ]
     },
     "metadata": {},
     "output_type": "display_data"
    }
   ],
   "source": [
    "X0 = [(land[landing_site+1, 0] + land[landing_site, 0]) // 2, 3000]\n",
    "V0 = [0.0, 0.0]\n",
    "Xs, Vs, thrust, success = simulate(X0, V0, land, landing_site)\n",
    "plot_lander(land, landing_site, Xs, thrust, animate=True, step=10)"
   ]
  },
  {
   "cell_type": "markdown",
   "metadata": {},
   "source": [
    "We get a crash landing as the vertical speed exceeds the maximum acceptable value of 40 m/s."
   ]
  },
  {
   "cell_type": "markdown",
   "metadata": {
    "nbgrader": {
     "grade": false,
     "grade_id": "cell-d5d6e1b768d66f54",
     "locked": true,
     "schema_version": 3,
     "solution": false
    }
   },
   "source": [
    "**Question 3. (20 marks)** Calculate the potential energy and kinetic energies of the lander during this trajectory via the expressions\n",
    "\n",
    "$$V = mgh$$\n",
    "$$T = \\frac 12 mv^2$$\n",
    "$$E = T + V$$\n",
    "\n",
    "where  $V$, $T$ and $E$ denote the potential, kinetic and total energies respectively, and $m=100$ kg is the mass of the lander, $h$ is its height and $v$ is is speed and $g$ is the acceleration due to gravity (3.711 m/s$^2$ on Mars),\n",
    "\n",
    "Adjust the timestep `dt` passed to `simulate()` to ensure there is less than a 0.1% drift in the total energy over 1 second of simulated time, i.e. $\\Delta E/E < 10^{-3}$ . You may find it helpful to plot a graph of the relative error in `E` as a function of time. \n",
    "\n",
    "To pass the tests you must store the time in an array named `t` and the total energy in an array named `E`. \n",
    "\n",
    "Here's some skeleton code to get you started:\n",
    "\n",
    "```julia\n",
    "m = 100. # mass of lander in kg\n",
    "dt = 1.0 # timestep, you'll need to adjust this\n",
    "Nstep = Int(1.0/dt)+1 # number of steps required for 1 second of simulated time\n",
    "\n",
    "# run the simulation\n",
    "Xs, Vs, thrust, success = simulate(X0, V0, land, landing_site, dt=dt, Nstep=Nstep)\n",
    "\n",
    "t = ...\n",
    "V = ...\n",
    "T = ...\n",
    "E = ...\n",
    "```"
   ]
  },
  {
   "cell_type": "code",
   "execution_count": 193,
   "metadata": {
    "nbgrader": {
     "grade": false,
     "grade_id": "cell-c12969e502be939b",
     "locked": false,
     "schema_version": 3,
     "solution": true
    },
    "scrolled": false
   },
   "outputs": [
    {
     "name": "stdout",
     "output_type": "stream",
     "text": [
      "i=000 X=[3495.000 2999.963] V=[   0.000   -0.371] thrust=[   0.000    0.000] fuel= 200.000\n"
     ]
    },
    {
     "data": {
      "text/plain": [
       "<matplotlib.legend.Legend at 0x118d88610>"
      ]
     },
     "execution_count": 193,
     "metadata": {},
     "output_type": "execute_result"
    },
    {
     "data": {
      "image/png": "[encoded data removed]",
      "text/plain": [
       "<Figure size 720x576 with 1 Axes>"
      ]
     },
     "metadata": {
      "needs_background": "light"
     },
     "output_type": "display_data"
    }
   ],
   "source": [
    "m = 100. # mass of lander in kg\n",
    "dt = 0.1\n",
    "Nstep = int((1.0 / dt) + 1) # number of steps required for 1 second of simulated time\n",
    "Xs, Vs, thrust, success = simulate(X0, V0, land, landing_site, dt=dt, Nstep=Nstep)\n",
    "\n",
    "t = np.array([dt*i for i in range(Nstep) ])\n",
    "V = np.array([ m*g*Xs[i, 1] for i in range(Nstep) ])\n",
    "T = np.array([ 0.5*m*norm(Vs[i, :])**2 for i in range(Nstep) ])\n",
    "E = T + V\n",
    "\n",
    "fig, ax = plt.subplots()\n",
    "ax.plot(t, abs(E - E[0])/E[0], label=\"Total energy drift\")\n",
    "ax.set_xlabel('Time / s')\n",
    "ax.set_ylabel('Energy drift')\n",
    "ax.legend()"
   ]
  },
  {
   "cell_type": "code",
   "execution_count": 194,
   "metadata": {
    "nbgrader": {
     "grade": true,
     "grade_id": "cell-cecfe41a7cacfeaa",
     "locked": true,
     "points": 20,
     "schema_version": 3,
     "solution": false
    }
   },
   "outputs": [],
   "source": [
    "assert t[0] == 0.0\n",
    "assert t[-1] >= 1.0\n",
    "assert len(t) == len(E) == Nstep\n",
    "assert abs(E[-1] - E[0])/E[0] < 1e-3"
   ]
  },
  {
   "cell_type": "markdown",
   "metadata": {
    "nbgrader": {
     "grade": false,
     "grade_id": "cell-1023f852fab0d1c2",
     "locked": true,
     "schema_version": 3,
     "solution": false
    }
   },
   "source": [
    "## Designing an autopilot to control the lander\n",
    "\n",
    "To control the lander, you need define a function `autopilot()` which accepts 5 arguments: \n",
    "\n",
    "- `i` is an integer giving step count - e.g. useful for printing debugging inforation every 100 steps.\n",
    "- `X` is a 2D vector containing the current coordinates of Mars Lander (in meters).\n",
    "- `V` is 2D vector containing the horizontal and vertical speed of Mars Lander (in m/s). These can be negative depending on the direction of the lander.\n",
    "- `fuel` is the remaining quantity of fuel in litres. When there is no more fuel, the power of thrusters falls to zero.\n",
    "- `rotate` is the angle of rotation of Mars Lander expressed in degrees.\n",
    "- `power` is the thrust power of the landing ship.\n",
    "\n",
    "Your function must return two integers `(rotate, power)`, where\n",
    "\n",
    "- `rotate` is the desired rotation angle for Mars Lander, in degrees. \n",
    "- `power` is the desired thrust power. 0 = off. 4 = maximum power. \n",
    "\n",
    "Here is a template `dummy_autopilot()` which does nothing - note that this will invariably lead to a crash landing!"
   ]
  },
  {
   "cell_type": "code",
   "execution_count": 195,
   "metadata": {},
   "outputs": [],
   "source": [
    "def dummy_autopilot(i, X, V, fuel, rotate, power):\n",
    "   return (rotate, power) # do nothing"
   ]
  },
  {
   "cell_type": "markdown",
   "metadata": {
    "nbgrader": {
     "grade": false,
     "grade_id": "cell-36b8bb92587112f0",
     "locked": true,
     "schema_version": 3,
     "solution": false
    }
   },
   "source": [
    "Pass the `autopilot` function as an extra argument to `simulate()` to turn it on - be sure to use the timestep `dt` that you determined in Q3:"
   ]
  },
  {
   "cell_type": "code",
   "execution_count": 196,
   "metadata": {},
   "outputs": [
    {
     "name": "stdout",
     "output_type": "stream",
     "text": [
      "i=000 X=[3495.000 2999.963] V=[   0.000   -0.371] thrust=[   0.000    0.000] fuel= 200.000\n",
      "i=100 X=[3495.000 2808.846] V=[   0.000  -37.481] thrust=[   0.000    0.000] fuel= 200.000\n",
      "i=200 X=[3495.000 2246.630] V=[   0.000  -74.591] thrust=[   0.000    0.000] fuel= 200.000\n",
      "i=300 X=[3495.000 1313.313] V=[   0.000 -111.701] thrust=[   0.000    0.000] fuel= 200.000\n",
      "crash! vertical speed must be limited (<40m/s in absolute value), got  117.63869999999959\n"
     ]
    },
    {
     "data": {
      "application/vnd.jupyter.widget-view+json": {
       "model_id": "3bda4d5fce6b4ef3a3f8e1c07dc1cd8e",
       "version_major": 2,
       "version_minor": 0
      },
      "text/plain": [
       "interactive(children=(IntSlider(value=315, description='n', max=316, step=10), Output()), _dom_classes=('widge…"
      ]
     },
     "metadata": {},
     "output_type": "display_data"
    }
   ],
   "source": [
    "X0 = [(land[landing_site+1, 0] + land[landing_site, 0]) // 2, 3000]\n",
    "V0 = [0., 0.]\n",
    "Xs, Vs, thrust, success = simulate(X0, V0, land, landing_site, dt=dt, autopilot=dummy_autopilot)\n",
    "plot_lander(land, landing_site, Xs, thrust, animate=True, step=10)"
   ]
  },
  {
   "cell_type": "markdown",
   "metadata": {
    "nbgrader": {
     "grade": false,
     "grade_id": "cell-855aed767c94d298",
     "locked": true,
     "schema_version": 3,
     "solution": false
    }
   },
   "source": [
    "As expected, we still get a crash landing as we have not fired the thruster at all. If you reduce the initial height of the lander you should be able to get a successful landing, but of course this is cheating!\n",
    "\n",
    "You can experiment with writing your own autopilot, or proceed to the next section for some suggestions."
   ]
  },
  {
   "cell_type": "markdown",
   "metadata": {},
   "source": [
    "## Proportional control\n",
    "\n",
    "We would like to design a suitable strategy for the autopilot, whose job is to adjust automatically the lander’s controls (thrust, and later the angle as well) to bring it safely to the surface. There is a powerful engineering discipline, **control theory**, that provides us with the necessary tools to do this. We will take a less-than-totally- rigorous look at a straightforward technique called **proportional control**. You can read more about this on [Wikipedia](https://en.wikipedia.org/wiki/PID_controller) or elsewhere.\n",
    "\n",
    "We want to use the engine’s thrust to control the rate of descent. Suppose our strategy is that the descent rate should decrease linearly as the lander approaches the surface, i.e. with target vertical velocity\n",
    "\n",
    "$$ v_y^\\mathrm{target} = −(c + K_h h) $$\n",
    "\n",
    "where $h$ is the lander’s altitude and $K_h$ is a positive constant. This seems reasonable, since the descent rate should then approach $c$ m/s as the lander touches down. If we set $c = 10$ m/s we should be safely within the 40 m/s limit. We can define an error term\n",
    "\n",
    "$$ e = v_y^\\mathrm{target} - v_y = −(c + K_h h + v_y)$$\n",
    "\n",
    "which is positive if the lander is descending too quickly and negative if the lander is descending too slowly.\n",
    "\n",
    "The instantaneous output of a proportional controller is then\n",
    "\n",
    "$$P_\\mathrm{out} = K_p e$$\n",
    "\n",
    "where $K_p$ is a positive constant known as the controller gain. Ideally, we would use $P_\\mathrm{out}$ to control directly the engine’s throttle, but here we must diverge a little from perfect proportional control theory, since whereas $P_\\mathrm{out}$ might take any real value representing arbitrary forward and reverse thrust, the lander’s engine is only capable of delivering a limited amount of forward thrust corresponding to throttle values in the range 0 to 4.\n",
    "\n",
    "**Question 4. (15 marks for infinite fuel + 20 marks for limited fuel)** Implement this scheme in an autopilot function named `proportional_autopilot()` and experiment with different values of $K_h$ and $K_p$. You will need to resort to trial and error when tuning $K_h$ and $K_p$. Initially, you might find it helpful to give yourself an infinite fuel supply (pass `fuel=Inf` to `simulate()`), though you should eventually manage to find suitable values for $K_h$ that bring the lander safely down with the supplied amount of fuel (`fuel=200`). \n",
    "\n",
    "Here is a skeleton for your function:\n",
    "\n",
    "```python\n",
    "def proportional_autopilot(i, X, V, fuel, rotate, power):\n",
    "    c = 10.0 # target landing speed, m/s\n",
    "    K_h = ...\n",
    "    K_p = ...\n",
    "    power = ... # set the thrust, must be 0 < power < 4\n",
    "    rotate = 0 # rotation angle, -90 < rotate < 90, not needed until bonus question!\n",
    "    return (rotate, power)\n",
    "```"
   ]
  },
  {
   "cell_type": "code",
   "execution_count": 197,
   "metadata": {
    "nbgrader": {
     "grade": false,
     "grade_id": "cell-b4b2b195acf7f9ba",
     "locked": false,
     "schema_version": 3,
     "solution": true
    }
   },
   "outputs": [],
   "source": [
    "def proportional_autopilot(i, X, V, fuel, rotate, power):\n",
    "    c = 10.0 # target landing speed, m/s\n",
    "    K_h = 0.01\n",
    "    K_p = 0.2\n",
    "    h = height(land, X)\n",
    "    e = - (c + K_h*h + V[1])\n",
    "    Pout = K_p*e\n",
    "    power = min(max(Pout, 0.0), 4.0)\n",
    "    if i % 100 == 0:\n",
    "        print(f'e={e:8.3f} Pout={Pout:8.3f} power={power:8.3f}')\n",
    "    return (rotate, power)"
   ]
  },
  {
   "cell_type": "markdown",
   "metadata": {
    "nbgrader": {
     "grade": false,
     "grade_id": "cell-c0b8f1972c9520c7",
     "locked": true,
     "schema_version": 3,
     "solution": false
    }
   },
   "source": [
    "While testing, you can use the cell below to run the simulation and visualise your trajectory:"
   ]
  },
  {
   "cell_type": "code",
   "execution_count": 198,
   "metadata": {},
   "outputs": [
    {
     "name": "stdout",
     "output_type": "stream",
     "text": [
      "e= -28.690 Pout=  -5.738 power=   0.000\n",
      "i=000 X=[3495.000 2999.963] V=[   0.000   -0.371] thrust=[   0.000    0.000] fuel=     inf\n",
      "e=   8.116 Pout=   1.623 power=   1.623\n",
      "i=100 X=[3495.000 2811.056] V=[   0.000  -35.161] thrust=[   0.000    1.623] fuel=     inf\n",
      "e=  18.947 Pout=   3.789 power=   3.789\n",
      "i=200 X=[3495.000 2409.258] V=[   0.000  -41.764] thrust=[   0.000    3.789] fuel=     inf\n",
      "e=  20.566 Pout=   4.113 power=   4.000\n",
      "i=300 X=[3495.000 2002.621] V=[   0.000  -39.293] thrust=[   0.000    4.000] fuel=     inf\n",
      "e=  21.462 Pout=   4.292 power=   4.000\n",
      "i=400 X=[3495.000 1624.288] V=[   0.000  -36.403] thrust=[   0.000    4.000] fuel=     inf\n",
      "e=  22.070 Pout=   4.414 power=   4.000\n",
      "i=500 X=[3495.000 1274.856] V=[   0.000  -33.513] thrust=[   0.000    4.000] fuel=     inf\n",
      "safe landing - well done!\n"
     ]
    },
    {
     "data": {
      "application/vnd.jupyter.widget-view+json": {
       "model_id": "2eb8421462f34f8291ede42106676188",
       "version_major": 2,
       "version_minor": 0
      },
      "text/plain": [
       "interactive(children=(IntSlider(value=543, description='n', max=544, step=10), Output()), _dom_classes=('widge…"
      ]
     },
     "metadata": {},
     "output_type": "display_data"
    }
   ],
   "source": [
    "X0 = [(land[landing_site+1, 0] + land[landing_site, 0]) // 2, 3000]\n",
    "V0 = [0., 0.]\n",
    "Xs, Vs, thrust, success = simulate(X0, V0, land, landing_site, dt=0.1, Nstep=2000, \n",
    "                                   autopilot=proportional_autopilot, fuel=np.inf)\n",
    "plot_lander(land, landing_site, Xs, thrust, animate=True, step=10)"
   ]
  },
  {
   "cell_type": "markdown",
   "metadata": {
    "nbgrader": {
     "grade": false,
     "grade_id": "cell-399af979e2d3786c",
     "locked": true,
     "schema_version": 3,
     "solution": false
    }
   },
   "source": [
    "You may also find it useful to plot the actual and target speed as a function of height by adapting the code below"
   ]
  },
  {
   "cell_type": "code",
   "execution_count": 209,
   "metadata": {},
   "outputs": [
    {
     "data": {
      "text/plain": [
       "<matplotlib.legend.Legend at 0x11a105ad0>"
      ]
     },
     "execution_count": 209,
     "metadata": {},
     "output_type": "execute_result"
    },
    {
     "data": {
      "image/png": "[encoded data removed]",
      "text/plain": [
       "<Figure size 720x576 with 1 Axes>"
      ]
     },
     "metadata": {
      "needs_background": "light"
     },
     "output_type": "display_data"
    }
   ],
   "source": [
    "c = 30.\n",
    "K_h = 0.01 # fill in your value of K_h here\n",
    "\n",
    "h = np.array([height(land, Xs[i, :]) for i in range(len(Xs))])\n",
    "\n",
    "fig, ax = plt.subplots()\n",
    "ax.plot(-h, Vs[:, 1], label=\"actual speed\")\n",
    "ax.set_xlabel(\"- altitude\")\n",
    "ax.set_ylabel(\"Vertical velocity\")\n",
    "ax.plot(-h, -(c + K_h*h), label=f\"target speed K$_h$={K_h}\")\n",
    "ax.legend()"
   ]
  },
  {
   "cell_type": "markdown",
   "metadata": {},
   "source": [
    "Here are the test cases, first with infinite fuel [15 marks] and then with 200 liters of fuel (a bit harder!) [20 marks]"
   ]
  },
  {
   "cell_type": "code",
   "execution_count": 211,
   "metadata": {
    "nbgrader": {
     "grade": true,
     "grade_id": "cell-1dbaf35a058f38f0",
     "locked": true,
     "points": 15,
     "schema_version": 3,
     "solution": false
    }
   },
   "outputs": [
    {
     "name": "stdout",
     "output_type": "stream",
     "text": [
      "e= -28.690 Pout=  -5.738 power=   0.000\n",
      "i=000 X=[3495.000 2999.963] V=[   0.000   -0.371] thrust=[   0.000    0.000] fuel=     inf\n",
      "e=   8.116 Pout=   1.623 power=   1.623\n",
      "i=100 X=[3495.000 2811.056] V=[   0.000  -35.161] thrust=[   0.000    1.623] fuel=     inf\n",
      "e=  18.947 Pout=   3.789 power=   3.789\n",
      "i=200 X=[3495.000 2409.258] V=[   0.000  -41.764] thrust=[   0.000    3.789] fuel=     inf\n",
      "e=  20.566 Pout=   4.113 power=   4.000\n",
      "i=300 X=[3495.000 2002.621] V=[   0.000  -39.293] thrust=[   0.000    4.000] fuel=     inf\n",
      "e=  21.462 Pout=   4.292 power=   4.000\n",
      "i=400 X=[3495.000 1624.288] V=[   0.000  -36.403] thrust=[   0.000    4.000] fuel=     inf\n",
      "e=  22.070 Pout=   4.414 power=   4.000\n",
      "i=500 X=[3495.000 1274.856] V=[   0.000  -33.513] thrust=[   0.000    4.000] fuel=     inf\n",
      "safe landing - well done!\n"
     ]
    }
   ],
   "source": [
    "# first test with infinite fuel\n",
    "X0 = [(land[landing_site+1, 0] + land[landing_site, 0]) // 2, 3000]\n",
    "V0 = [0., 0., ]\n",
    "Xs, Vs, thrust, success = simulate(X0, V0, land, landing_site, dt=0.1, Nstep=2000, \n",
    "                                   autopilot=proportional_autopilot, fuel=np.inf)\n",
    "assert success"
   ]
  },
  {
   "cell_type": "code",
   "execution_count": 213,
   "metadata": {
    "nbgrader": {
     "grade": true,
     "grade_id": "cell-339ed3b6ecb3be40",
     "locked": true,
     "points": 20,
     "schema_version": 3,
     "solution": false
    },
    "scrolled": false
   },
   "outputs": [
    {
     "name": "stdout",
     "output_type": "stream",
     "text": [
      "e= -28.690 Pout=  -5.738 power=   0.000\n",
      "i=000 X=[3495.000 2999.963] V=[   0.000   -0.371] thrust=[   0.000    0.000] fuel= 200.000\n",
      "e=   8.116 Pout=   1.623 power=   1.623\n",
      "i=100 X=[3495.000 2811.056] V=[   0.000  -35.161] thrust=[   0.000    1.623] fuel= 197.679\n",
      "e=  18.947 Pout=   3.789 power=   3.789\n",
      "i=200 X=[3495.000 2409.258] V=[   0.000  -41.764] thrust=[   0.000    3.789] fuel= 167.173\n",
      "e=  20.566 Pout=   4.113 power=   4.000\n",
      "i=300 X=[3495.000 2002.621] V=[   0.000  -39.293] thrust=[   0.000    4.000] fuel= 127.592\n",
      "e=  21.462 Pout=   4.292 power=   4.000\n",
      "i=400 X=[3495.000 1624.288] V=[   0.000  -36.403] thrust=[   0.000    4.000] fuel=  87.592\n",
      "e=  22.070 Pout=   4.414 power=   4.000\n",
      "i=500 X=[3495.000 1274.856] V=[   0.000  -33.513] thrust=[   0.000    4.000] fuel=  47.592\n",
      "safe landing - well done!\n"
     ]
    }
   ],
   "source": [
    "# now test with fuel=200\n",
    "X0 = [(land[landing_site+1, 0] + land[landing_site, 0]) // 2, 3000]\n",
    "V0 = [0., 0., ]\n",
    "Xs, Vs, thrust, success = simulate(X0, V0, land, landing_site, dt=0.1, Nstep=2000, \n",
    "                                   autopilot=proportional_autopilot, fuel=200)\n",
    "assert success"
   ]
  },
  {
   "cell_type": "markdown",
   "metadata": {
    "nbgrader": {
     "grade": false,
     "grade_id": "cell-335ca7b2bc5c83ad",
     "locked": true,
     "schema_version": 3,
     "solution": false
    }
   },
   "source": [
    "**Question 5. (10 marks)** Write a short paragraph to explain the role of $K_h$: too high and the lander crashes, too low and it runs out of fuel, but why? "
   ]
  },
  {
   "cell_type": "markdown",
   "metadata": {
    "nbgrader": {
     "grade": true,
     "grade_id": "cell-f2358f1622d661ea",
     "locked": false,
     "points": 10,
     "schema_version": 3,
     "solution": true
    }
   },
   "source": [
    "YOUR ANSWER HERE"
   ]
  },
  {
   "cell_type": "markdown",
   "metadata": {
    "nbgrader": {
     "grade": false,
     "grade_id": "cell-eb312d06a4c6af3d",
     "locked": true,
     "schema_version": 3,
     "solution": false
    }
   },
   "source": [
    "**Question 6. (5 marks for each part)** Adjust your autopilot to work cope with:\n",
    "\n",
    "1. random vertical starting positions between 1500 and 3000m [5 marks]\n",
    "2. random changes in the initial vertical velocity ($-50 < v_y < 50$ m/s) [5 marks]\n",
    "3. different random Martian surfaces. [5 marks]\n",
    "\n",
    "To pass each of the three tests you need to achieve at least an 80% success rate over 20 trials. You should be able to find common values of $K_h$ and $K_p$ that work for all three tests."
   ]
  },
  {
   "cell_type": "code",
   "execution_count": 217,
   "metadata": {
    "nbgrader": {
     "grade": true,
     "grade_id": "cell-0c19a47cf851d26b",
     "locked": true,
     "points": 5,
     "schema_version": 3,
     "solution": false
    },
    "scrolled": true
   },
   "outputs": [
    {
     "name": "stdout",
     "output_type": "stream",
     "text": [
      "X0=[5060, 2138] V0=[0.0, 0.0]\n",
      "e= -20.960 Pout=  -4.192 power=   0.000\n",
      "i=000 X=[5060.000 2137.963] V=[   0.000   -0.371] thrust=[   0.000    0.000] fuel= 200.000\n",
      "e=  11.910 Pout=   2.382 power=   2.382\n",
      "i=100 X=[5060.000 1957.308] V=[   0.000  -31.227] thrust=[   0.000    2.382] fuel= 193.746\n",
      "e=  19.176 Pout=   3.835 power=   3.835\n",
      "i=200 X=[5060.000 1615.042] V=[   0.000  -34.929] thrust=[   0.000    3.835] fuel= 160.338\n",
      "e=  20.115 Pout=   4.023 power=   4.000\n",
      "i=300 X=[5060.000 1276.898] V=[   0.000  -32.468] thrust=[   0.000    4.000] fuel= 120.767\n",
      "safe landing - well done!\n",
      "\n",
      "X0=[5060, 1547] V0=[0.0, 0.0]\n",
      "e= -15.050 Pout=  -3.010 power=   0.000\n",
      "i=000 X=[5060.000 1546.963] V=[   0.000   -0.371] thrust=[   0.000    0.000] fuel= 200.000\n",
      "e=  13.895 Pout=   2.779 power=   2.779\n",
      "i=100 X=[5060.000 1378.635] V=[   0.000  -27.382] thrust=[   0.000    2.779] fuel= 189.901\n",
      "e=  19.221 Pout=   3.844 power=   3.844\n",
      "i=200 X=[5060.000 1084.996] V=[   0.000  -29.667] thrust=[   0.000    3.844] fuel= 155.076\n",
      "safe landing - well done!\n",
      "\n",
      "X0=[5060, 1573] V0=[0.0, 0.0]\n",
      "e= -15.310 Pout=  -3.062 power=   0.000\n",
      "i=000 X=[5060.000 1572.963] V=[   0.000   -0.371] thrust=[   0.000    0.000] fuel= 200.000\n",
      "e=  13.821 Pout=   2.764 power=   2.764\n",
      "i=100 X=[5060.000 1403.967] V=[   0.000  -27.563] thrust=[   0.000    2.764] fuel= 190.082\n",
      "e=  19.221 Pout=   3.844 power=   3.844\n",
      "i=200 X=[5060.000 1108.147] V=[   0.000  -29.899] thrust=[   0.000    3.844] fuel= 155.308\n",
      "safe landing - well done!\n",
      "\n",
      "X0=[5060, 2442] V0=[0.0, 0.0]\n",
      "e= -24.000 Pout=  -4.800 power=   0.000\n",
      "i=000 X=[5060.000 2441.963] V=[   0.000   -0.371] thrust=[   0.000    0.000] fuel= 200.000\n",
      "e=  10.603 Pout=   2.121 power=   2.121\n",
      "i=100 X=[5060.000 2257.122] V=[   0.000  -32.946] thrust=[   0.000    2.121] fuel= 195.465\n",
      "e=  19.113 Pout=   3.823 power=   3.823\n",
      "i=200 X=[5060.000 1890.789] V=[   0.000  -37.627] thrust=[   0.000    3.823] fuel= 163.036\n",
      "e=  20.291 Pout=   4.058 power=   4.000\n",
      "i=300 X=[5060.000 1525.783] V=[   0.000  -35.135] thrust=[   0.000    4.000] fuel= 123.434\n",
      "e=  20.772 Pout=   4.154 power=   4.000\n",
      "i=400 X=[5060.000 1189.025] V=[   0.000  -32.245] thrust=[   0.000    4.000] fuel=  83.434\n",
      "safe landing - well done!\n",
      "\n",
      "X0=[5060, 1724] V0=[0.0, 0.0]\n",
      "e= -16.820 Pout=  -3.364 power=   0.000\n",
      "i=000 X=[5060.000 1723.963] V=[   0.000   -0.371] thrust=[   0.000    0.000] fuel= 200.000\n",
      "e=  13.369 Pout=   2.674 power=   2.674\n",
      "i=100 X=[5060.000 1551.320] V=[   0.000  -28.595] thrust=[   0.000    2.674] fuel= 191.114\n",
      "e=  19.217 Pout=   3.843 power=   3.843\n",
      "i=200 X=[5060.000 1242.902] V=[   0.000  -31.244] thrust=[   0.000    3.843] fuel= 156.653\n",
      "safe landing - well done!\n",
      "\n",
      "X0=[5060, 1611] V0=[0.0, 0.0]\n",
      "e= -15.690 Pout=  -3.138 power=   0.000\n",
      "i=000 X=[5060.000 1610.963] V=[   0.000   -0.371] thrust=[   0.000    0.000] fuel= 200.000\n",
      "e=  13.711 Pout=   2.742 power=   2.742\n",
      "i=100 X=[5060.000 1441.011] V=[   0.000  -27.826] thrust=[   0.000    2.742] fuel= 190.345\n",
      "e=  19.221 Pout=   3.844 power=   3.844\n",
      "i=200 X=[5060.000 1142.009] V=[   0.000  -30.238] thrust=[   0.000    3.844] fuel= 155.647\n",
      "safe landing - well done!\n",
      "\n",
      "X0=[5060, 2933] V0=[0.0, 0.0]\n",
      "e= -28.910 Pout=  -5.782 power=   0.000\n",
      "i=000 X=[5060.000 2932.963] V=[   0.000   -0.371] thrust=[   0.000    0.000] fuel= 200.000\n",
      "e=   7.984 Pout=   1.597 power=   1.597\n",
      "i=100 X=[5060.000 2743.926] V=[   0.000  -35.250] thrust=[   0.000    1.597] fuel= 197.769\n",
      "e=  18.938 Pout=   3.788 power=   3.788\n",
      "i=200 X=[5060.000 2340.520] V=[   0.000  -41.957] thrust=[   0.000    3.788] fuel= 167.366\n",
      "e=  20.579 Pout=   4.116 power=   4.000\n",
      "i=300 X=[5060.000 1931.928] V=[   0.000  -39.488] thrust=[   0.000    4.000] fuel= 127.787\n",
      "e=  21.494 Pout=   4.299 power=   4.000\n",
      "i=400 X=[5060.000 1551.639] V=[   0.000  -36.598] thrust=[   0.000    4.000] fuel=  87.787\n",
      "e=  22.121 Pout=   4.424 power=   4.000\n",
      "i=500 X=[5060.000 1200.250] V=[   0.000  -33.708] thrust=[   0.000    4.000] fuel=  47.787\n",
      "safe landing - well done!\n",
      "\n",
      "X0=[5060, 2863] V0=[0.0, 0.0]\n",
      "e= -28.210 Pout=  -5.642 power=   0.000\n",
      "i=000 X=[5060.000 2862.963] V=[   0.000   -0.371] thrust=[   0.000    0.000] fuel= 200.000\n",
      "e=   8.400 Pout=   1.680 power=   1.680\n",
      "i=100 X=[5060.000 2674.355] V=[   0.000  -34.962] thrust=[   0.000    1.680] fuel= 197.480\n",
      "e=  18.969 Pout=   3.794 power=   3.794\n",
      "i=200 X=[5060.000 2276.079] V=[   0.000  -41.342] thrust=[   0.000    3.794] fuel= 166.751\n",
      "e=  20.539 Pout=   4.108 power=   4.000\n",
      "i=300 X=[5060.000 1873.708] V=[   0.000  -38.866] thrust=[   0.000    4.000] fuel= 127.165\n",
      "e=  21.392 Pout=   4.278 power=   4.000\n",
      "i=400 X=[5060.000 1499.642] V=[   0.000  -35.976] thrust=[   0.000    4.000] fuel=  87.165\n",
      "e=  21.957 Pout=   4.391 power=   4.000\n",
      "i=500 X=[5060.000 1154.477] V=[   0.000  -33.086] thrust=[   0.000    4.000] fuel=  47.165\n",
      "safe landing - well done!\n",
      "\n",
      "X0=[5060, 2346] V0=[0.0, 0.0]\n",
      "e= -23.040 Pout=  -4.608 power=   0.000\n",
      "i=000 X=[5060.000 2345.963] V=[   0.000   -0.371] thrust=[   0.000    0.000] fuel= 200.000\n",
      "e=  11.040 Pout=   2.208 power=   2.208\n",
      "i=100 X=[5060.000 2162.300] V=[   0.000  -32.425] thrust=[   0.000    2.208] fuel= 194.944\n",
      "e=  19.136 Pout=   3.827 power=   3.827\n",
      "i=200 X=[5060.000 1803.486] V=[   0.000  -36.776] thrust=[   0.000    3.827] fuel= 162.185\n",
      "e=  20.234 Pout=   4.047 power=   4.000\n",
      "i=300 X=[5060.000 1446.978] V=[   0.000  -34.289] thrust=[   0.000    4.000] fuel= 122.588\n",
      "e=  20.630 Pout=   4.126 power=   4.000\n",
      "i=400 X=[5060.000 1118.679] V=[   0.000  -31.399] thrust=[   0.000    4.000] fuel=  82.588\n",
      "safe landing - well done!\n",
      "\n",
      "X0=[5060, 2777] V0=[0.0, 0.0]\n",
      "e= -27.350 Pout=  -5.470 power=   0.000\n",
      "i=000 X=[5060.000 2776.963] V=[   0.000   -0.371] thrust=[   0.000    0.000] fuel= 200.000\n",
      "e=   8.891 Pout=   1.778 power=   1.778\n",
      "i=100 X=[5060.000 2588.951] V=[   0.000  -34.588] thrust=[   0.000    1.778] fuel= 197.107\n",
      "e=  19.004 Pout=   3.801 power=   3.801\n",
      "i=200 X=[5060.000 2197.052] V=[   0.000  -40.586] thrust=[   0.000    3.801] fuel= 165.995\n",
      "e=  20.489 Pout=   4.098 power=   4.000\n",
      "i=300 X=[5060.000 1802.321] V=[   0.000  -38.102] thrust=[   0.000    4.000] fuel= 126.401\n",
      "e=  21.267 Pout=   4.253 power=   4.000\n",
      "i=400 X=[5060.000 1435.897] V=[   0.000  -35.212] thrust=[   0.000    4.000] fuel=  86.401\n",
      "e=  21.755 Pout=   4.351 power=   4.000\n",
      "i=500 X=[5060.000 1098.373] V=[   0.000  -32.322] thrust=[   0.000    4.000] fuel=  46.401\n",
      "safe landing - well done!\n",
      "\n",
      "X0=[5060, 1920] V0=[0.0, 0.0]\n",
      "e= -18.780 Pout=  -3.756 power=   0.000\n",
      "i=000 X=[5060.000 1919.963] V=[   0.000   -0.371] thrust=[   0.000    0.000] fuel= 200.000\n",
      "e=  12.721 Pout=   2.544 power=   2.544\n",
      "i=100 X=[5060.000 1743.177] V=[   0.000  -29.879] thrust=[   0.000    2.544] fuel= 192.398\n",
      "e=  19.204 Pout=   3.841 power=   3.841\n",
      "i=200 X=[5060.000 1418.598] V=[   0.000  -32.990] thrust=[   0.000    3.841] fuel= 158.399\n",
      "e=  20.009 Pout=   4.002 power=   4.000\n",
      "i=300 X=[5060.000 1099.604] V=[   0.000  -30.587] thrust=[   0.000    4.000] fuel= 118.885\n",
      "safe landing - well done!\n",
      "\n",
      "X0=[5060, 2108] V0=[0.0, 0.0]\n",
      "e= -20.660 Pout=  -4.132 power=   0.000\n",
      "i=000 X=[5060.000 2107.963] V=[   0.000   -0.371] thrust=[   0.000    0.000] fuel= 200.000\n",
      "e=  12.028 Pout=   2.406 power=   2.406\n",
      "i=100 X=[5060.000 1927.796] V=[   0.000  -31.047] thrust=[   0.000    2.406] fuel= 193.566\n",
      "e=  19.181 Pout=   3.836 power=   3.836\n",
      "i=200 X=[5060.000 1587.945] V=[   0.000  -34.663] thrust=[   0.000    3.836] fuel= 160.072\n",
      "e=  20.099 Pout=   4.020 power=   4.000\n",
      "i=300 X=[5060.000 1252.444] V=[   0.000  -32.207] thrust=[   0.000    4.000] fuel= 120.506\n",
      "safe landing - well done!\n",
      "\n",
      "X0=[5060, 2732] V0=[0.0, 0.0]\n",
      "e= -26.900 Pout=  -5.380 power=   0.000\n",
      "i=000 X=[5060.000 2731.963] V=[   0.000   -0.371] thrust=[   0.000    0.000] fuel= 200.000\n",
      "e=   9.140 Pout=   1.828 power=   1.828\n",
      "i=100 X=[5060.000 2544.296] V=[   0.000  -34.385] thrust=[   0.000    1.828] fuel= 196.904\n",
      "e=  19.021 Pout=   3.804 power=   3.804\n",
      "i=200 X=[5060.000 2155.764] V=[   0.000  -40.190] thrust=[   0.000    3.804] fuel= 165.599\n",
      "e=  20.463 Pout=   4.093 power=   4.000\n",
      "i=300 X=[5060.000 1765.031] V=[   0.000  -37.702] thrust=[   0.000    4.000] fuel= 126.001\n",
      "e=  21.200 Pout=   4.240 power=   4.000\n",
      "i=400 X=[5060.000 1402.602] V=[   0.000  -34.812] thrust=[   0.000    4.000] fuel=  86.001\n",
      "e=  21.649 Pout=   4.330 power=   4.000\n",
      "i=500 X=[5060.000 1069.073] V=[   0.000  -31.922] thrust=[   0.000    4.000] fuel=  46.001\n",
      "safe landing - well done!\n",
      "\n",
      "X0=[5060, 2592] V0=[0.0, 0.0]\n",
      "e= -25.500 Pout=  -5.100 power=   0.000\n",
      "i=000 X=[5060.000 2591.963] V=[   0.000   -0.371] thrust=[   0.000    0.000] fuel= 200.000\n",
      "e=   9.874 Pout=   1.975 power=   1.975\n",
      "i=100 X=[5060.000 2405.529] V=[   0.000  -33.717] thrust=[   0.000    1.975] fuel= 196.236\n",
      "e=  19.069 Pout=   3.814 power=   3.814\n",
      "i=200 X=[5060.000 2027.613] V=[   0.000  -38.954] thrust=[   0.000    3.814] fuel= 164.363\n",
      "e=  20.381 Pout=   4.076 power=   4.000\n",
      "i=300 X=[5060.000 1649.308] V=[   0.000  -36.461] thrust=[   0.000    4.000] fuel= 124.760\n",
      "e=  20.994 Pout=   4.199 power=   4.000\n",
      "i=400 X=[5060.000 1299.291] V=[   0.000  -33.571] thrust=[   0.000    4.000] fuel=  84.760\n",
      "safe landing - well done!\n",
      "\n",
      "X0=[5060, 1951] V0=[0.0, 0.0]\n",
      "e= -19.090 Pout=  -3.818 power=   0.000\n",
      "i=000 X=[5060.000 1950.963] V=[   0.000   -0.371] thrust=[   0.000    0.000] fuel= 200.000\n",
      "e=  12.612 Pout=   2.522 power=   2.522\n",
      "i=100 X=[5060.000 1773.579] V=[   0.000  -30.076] thrust=[   0.000    2.522] fuel= 192.595\n",
      "e=  19.201 Pout=   3.840 power=   3.840\n",
      "i=200 X=[5060.000 1446.465] V=[   0.000  -33.266] thrust=[   0.000    3.840] fuel= 158.675\n",
      "e=  20.022 Pout=   4.004 power=   4.000\n",
      "i=300 X=[5060.000 1124.755] V=[   0.000  -30.851] thrust=[   0.000    4.000] fuel= 119.150\n",
      "safe landing - well done!\n",
      "\n",
      "X0=[5060, 1502] V0=[0.0, 0.0]\n",
      "e= -14.600 Pout=  -2.920 power=   0.000\n",
      "i=000 X=[5060.000 1501.963] V=[   0.000   -0.371] thrust=[   0.000    0.000] fuel= 200.000\n",
      "e=  14.020 Pout=   2.804 power=   2.804\n",
      "i=100 X=[5060.000 1334.823] V=[   0.000  -27.066] thrust=[   0.000    2.804] fuel= 189.585\n",
      "e=  19.221 Pout=   3.844 power=   3.844\n",
      "i=200 X=[5060.000 1044.967] V=[   0.000  -29.267] thrust=[   0.000    3.844] fuel= 154.675\n",
      "safe landing - well done!\n",
      "\n",
      "X0=[5060, 1840] V0=[0.0, 0.0]\n",
      "e= -17.980 Pout=  -3.596 power=   0.000\n",
      "i=000 X=[5060.000 1839.963] V=[   0.000   -0.371] thrust=[   0.000    0.000] fuel= 200.000\n",
      "e=  12.994 Pout=   2.599 power=   2.599\n",
      "i=100 X=[5060.000 1664.789] V=[   0.000  -29.363] thrust=[   0.000    2.599] fuel= 191.882\n",
      "e=  19.211 Pout=   3.842 power=   3.842\n",
      "i=200 X=[5060.000 1346.779] V=[   0.000  -32.278] thrust=[   0.000    3.842] fuel= 157.687\n",
      "safe landing - well done!\n",
      "\n",
      "X0=[5060, 1539] V0=[0.0, 0.0]\n",
      "e= -14.970 Pout=  -2.994 power=   0.000\n",
      "i=000 X=[5060.000 1538.963] V=[   0.000   -0.371] thrust=[   0.000    0.000] fuel= 200.000\n",
      "e=  13.917 Pout=   2.783 power=   2.783\n",
      "i=100 X=[5060.000 1370.844] V=[   0.000  -27.326] thrust=[   0.000    2.783] fuel= 189.845\n",
      "e=  19.221 Pout=   3.844 power=   3.844\n",
      "i=200 X=[5060.000 1077.877] V=[   0.000  -29.596] thrust=[   0.000    3.844] fuel= 155.005\n",
      "safe landing - well done!\n",
      "\n",
      "X0=[5060, 2846] V0=[0.0, 0.0]\n",
      "e= -28.040 Pout=  -5.608 power=   0.000\n",
      "i=000 X=[5060.000 2845.963] V=[   0.000   -0.371] thrust=[   0.000    0.000] fuel= 200.000\n",
      "e=   8.499 Pout=   1.700 power=   1.700\n",
      "i=100 X=[5060.000 2657.465] V=[   0.000  -34.890] thrust=[   0.000    1.700] fuel= 197.409\n",
      "e=  18.976 Pout=   3.795 power=   3.795\n",
      "i=200 X=[5060.000 2260.443] V=[   0.000  -41.193] thrust=[   0.000    3.795] fuel= 166.602\n",
      "e=  20.529 Pout=   4.106 power=   4.000\n",
      "i=300 X=[5060.000 1859.582] V=[   0.000  -38.715] thrust=[   0.000    4.000] fuel= 127.014\n",
      "e=  21.368 Pout=   4.274 power=   4.000\n",
      "i=400 X=[5060.000 1487.028] V=[   0.000  -35.825] thrust=[   0.000    4.000] fuel=  87.014\n"
     ]
    },
    {
     "name": "stdout",
     "output_type": "stream",
     "text": [
      "e=  21.917 Pout=   4.383 power=   4.000\n",
      "i=500 X=[5060.000 1143.374] V=[   0.000  -32.935] thrust=[   0.000    4.000] fuel=  47.014\n",
      "safe landing - well done!\n",
      "\n",
      "X0=[5060, 2096] V0=[0.0, 0.0]\n",
      "e= -20.540 Pout=  -4.108 power=   0.000\n",
      "i=000 X=[5060.000 2095.963] V=[   0.000   -0.371] thrust=[   0.000    0.000] fuel= 200.000\n",
      "e=  12.074 Pout=   2.415 power=   2.415\n",
      "i=100 X=[5060.000 1915.995] V=[   0.000  -30.975] thrust=[   0.000    2.415] fuel= 193.494\n",
      "e=  19.183 Pout=   3.837 power=   3.837\n",
      "i=200 X=[5060.000 1577.111] V=[   0.000  -34.556] thrust=[   0.000    3.837] fuel= 159.965\n",
      "e=  20.093 Pout=   4.019 power=   4.000\n",
      "i=300 X=[5060.000 1242.666] V=[   0.000  -32.102] thrust=[   0.000    4.000] fuel= 120.401\n",
      "safe landing - well done!\n",
      "\n",
      "count/trials = 1.0\n"
     ]
    }
   ],
   "source": [
    "# Test 1. Random vertical starting positions\n",
    "np.random.seed(123) # seed random number generator for reproducible results\n",
    "land, landing_site = mars_surface()\n",
    "\n",
    "trials = 20\n",
    "count = 0\n",
    "for i in range(trials):\n",
    "    X0 = [(land[landing_site+1, 0] + land[landing_site, 0]) // 2, randint(1500, 3000)]\n",
    "    V0 = [0., 0.]\n",
    "    print(f'X0={X0} V0={V0}')\n",
    "    Xs, Vs, thrust, success = simulate(X0, V0, land, landing_site, dt=0.1, Nstep=2000, \n",
    "                                       autopilot=proportional_autopilot, fuel=200)\n",
    "    count += success\n",
    "    print()\n",
    "\n",
    "print(f'count/trials = {count/trials}')\n",
    "assert count/trials > 0.8 # require 80% success rate"
   ]
  },
  {
   "cell_type": "code",
   "execution_count": 219,
   "metadata": {
    "nbgrader": {
     "grade": true,
     "grade_id": "cell-91ba74c3503423a1",
     "locked": true,
     "points": 5,
     "schema_version": 3,
     "solution": false
    },
    "scrolled": true
   },
   "outputs": [
    {
     "name": "stdout",
     "output_type": "stream",
     "text": [
      "X0=[5060, 2138] V0=[0.0, -36.004923736961544]\n",
      "e=  15.045 Pout=   3.009 power=   3.009\n",
      "i=000 X=[5060.000 2134.392] V=[   0.000  -36.075] thrust=[   0.000    3.009] fuel= 199.699\n",
      "e=  19.706 Pout=   3.941 power=   3.941\n",
      "i=100 X=[5060.000 1762.132] V=[   0.000  -36.921] thrust=[   0.000    3.941] fuel= 163.435\n",
      "e=  20.449 Pout=   4.090 power=   4.000\n",
      "i=200 X=[5060.000 1406.861] V=[   0.000  -34.102] thrust=[   0.000    4.000] fuel= 123.506\n",
      "e=  20.826 Pout=   4.165 power=   4.000\n",
      "i=300 X=[5060.000 1080.431] V=[   0.000  -31.212] thrust=[   0.000    4.000] fuel=  83.506\n",
      "safe landing - well done!\n",
      "\n",
      "X0=[5060, 2442] V0=[0.0, 12.731700933761672]\n",
      "e= -36.732 Pout=  -7.346 power=   0.000\n",
      "i=000 X=[5060.000 2443.236] V=[   0.000   12.361] thrust=[   0.000    0.000] fuel= 200.000\n",
      "e=   0.964 Pout=   0.193 power=   0.193\n",
      "i=100 X=[5060.000 2379.442] V=[   0.000  -24.715] thrust=[   0.000    0.193] fuel= 199.965\n",
      "e=  17.765 Pout=   3.553 power=   3.553\n",
      "i=200 X=[5060.000 2040.068] V=[   0.000  -37.800] thrust=[   0.000    3.553] fuel= 175.940\n",
      "e=  20.066 Pout=   4.013 power=   4.000\n",
      "i=300 X=[5060.000 1666.051] V=[   0.000  -36.314] thrust=[   0.000    4.000] fuel= 137.344\n",
      "e=  20.664 Pout=   4.133 power=   4.000\n",
      "i=400 X=[5060.000 1317.506] V=[   0.000  -33.424] thrust=[   0.000    4.000] fuel=  97.344\n",
      "safe landing - well done!\n",
      "\n",
      "X0=[5060, 2933] V0=[0.0, -6.142775532037561]\n",
      "e= -22.767 Pout=  -4.553 power=   0.000\n",
      "i=000 X=[5060.000 2932.349] V=[   0.000   -6.514] thrust=[   0.000    0.000] fuel= 200.000\n",
      "e=  11.488 Pout=   2.298 power=   2.298\n",
      "i=100 X=[5060.000 2688.235] V=[   0.000  -38.130] thrust=[   0.000    2.298] fuel= 194.506\n",
      "e=  19.423 Pout=   3.885 power=   3.885\n",
      "i=200 X=[5060.000 2276.129] V=[   0.000  -41.788] thrust=[   0.000    3.885] fuel= 161.054\n",
      "e=  20.754 Pout=   4.151 power=   4.000\n",
      "i=300 X=[5060.000 1871.395] V=[   0.000  -39.058] thrust=[   0.000    4.000] fuel= 121.214\n",
      "e=  21.627 Pout=   4.325 power=   4.000\n",
      "i=400 X=[5060.000 1495.410] V=[   0.000  -36.168] thrust=[   0.000    4.000] fuel=  81.214\n",
      "e=  22.210 Pout=   4.442 power=   4.000\n",
      "i=500 X=[5060.000 1148.325] V=[   0.000  -33.278] thrust=[   0.000    4.000] fuel=  41.214\n",
      "safe landing - well done!\n",
      "\n",
      "X0=[5060, 2777] V0=[0.0, 19.475517718526902]\n",
      "e= -46.826 Pout=  -9.365 power=   0.000\n",
      "i=000 X=[5060.000 2778.910] V=[   0.000   19.104] thrust=[   0.000    0.000] fuel= 200.000\n",
      "e=  -9.789 Pout=  -1.958 power=   0.000\n",
      "i=100 X=[5060.000 2782.549] V=[   0.000  -18.006] thrust=[   0.000    0.000] fuel= 200.000\n",
      "e=  15.932 Pout=   3.186 power=   3.186\n",
      "i=200 X=[5060.000 2457.592] V=[   0.000  -40.180] thrust=[   0.000    3.186] fuel= 185.065\n",
      "e=  19.970 Pout=   3.994 power=   3.994\n",
      "i=300 X=[5060.000 2050.114] V=[   0.000  -40.063] thrust=[   0.000    3.994] fuel= 147.838\n",
      "e=  20.945 Pout=   4.189 power=   4.000\n",
      "i=400 X=[5060.000 1664.070] V=[   0.000  -37.174] thrust=[   0.000    4.000] fuel= 107.838\n",
      "e=  21.629 Pout=   4.326 power=   4.000\n",
      "i=500 X=[5060.000 1306.926] V=[   0.000  -34.284] thrust=[   0.000    4.000] fuel=  67.838\n",
      "safe landing - well done!\n",
      "\n",
      "X0=[5060, 2732] V0=[0.0, 23.799540573203572]\n",
      "e= -50.700 Pout= -10.140 power=   0.000\n",
      "i=000 X=[5060.000 2734.343] V=[   0.000   23.428] thrust=[   0.000    0.000] fuel= 200.000\n",
      "e= -14.095 Pout=  -2.819 power=   0.000\n",
      "i=100 X=[5060.000 2781.222] V=[   0.000  -13.682] thrust=[   0.000    0.000] fuel= 200.000\n",
      "e=  14.759 Pout=   2.952 power=   2.952\n",
      "i=200 X=[5060.000 2484.608] V=[   0.000  -39.301] thrust=[   0.000    2.952] fuel= 188.509\n",
      "e=  19.812 Pout=   3.962 power=   3.962\n",
      "i=300 X=[5060.000 2079.221] V=[   0.000  -40.199] thrust=[   0.000    3.962] fuel= 152.297\n",
      "e=  20.828 Pout=   4.166 power=   4.000\n",
      "i=400 X=[5060.000 1691.596] V=[   0.000  -37.333] thrust=[   0.000    4.000] fuel= 112.321\n",
      "e=  21.529 Pout=   4.306 power=   4.000\n",
      "i=500 X=[5060.000 1332.862] V=[   0.000  -34.443] thrust=[   0.000    4.000] fuel=  72.321\n",
      "safe landing - well done!\n",
      "\n",
      "X0=[5060, 1951] V0=[0.0, -32.454824385250745]\n",
      "e=  13.365 Pout=   2.673 power=   2.673\n",
      "i=000 X=[5060.000 1947.744] V=[   0.000  -32.559] thrust=[   0.000    2.673] fuel= 199.733\n",
      "e=  19.384 Pout=   3.877 power=   3.877\n",
      "i=100 X=[5060.000 1600.540] V=[   0.000  -34.987] thrust=[   0.000    3.877] fuel= 165.051\n",
      "e=  20.165 Pout=   4.033 power=   4.000\n",
      "i=200 X=[5060.000 1262.926] V=[   0.000  -32.378] thrust=[   0.000    4.000] fuel= 125.332\n",
      "safe landing - well done!\n",
      "\n",
      "X0=[5060, 1539] V0=[0.0, 21.233018138876247]\n",
      "e= -36.203 Pout=  -7.241 power=   0.000\n",
      "i=000 X=[5060.000 1541.086] V=[   0.000   20.862] thrust=[   0.000    0.000] fuel= 200.000\n",
      "e=   0.652 Pout=   0.130 power=   0.130\n",
      "i=100 X=[5060.000 1562.302] V=[   0.000  -16.230] thrust=[   0.000    0.130] fuel= 199.982\n",
      "e=  17.377 Pout=   3.475 power=   3.475\n",
      "i=200 X=[5060.000 1304.172] V=[   0.000  -30.052] thrust=[   0.000    3.475] fuel= 176.694\n",
      "safe landing - well done!\n",
      "\n",
      "X0=[5060, 2004] V0=[0.0, -20.22195022595541]\n",
      "e=   0.602 Pout=   0.120 power=   0.120\n",
      "i=000 X=[5060.000 2001.942] V=[   0.000  -20.581] thrust=[   0.000    0.120] fuel= 199.988\n",
      "e=  17.554 Pout=   3.511 power=   3.511\n",
      "i=100 X=[5060.000 1700.981] V=[   0.000  -34.198] thrust=[   0.000    3.511] fuel= 176.495\n",
      "e=  19.888 Pout=   3.978 power=   3.978\n",
      "i=200 X=[5060.000 1361.010] V=[   0.000  -33.084] thrust=[   0.000    3.978] fuel= 138.271\n",
      "e=  20.189 Pout=   4.038 power=   4.000\n",
      "i=300 X=[5060.000 1044.558] V=[   0.000  -30.216] thrust=[   0.000    4.000] fuel=  98.293\n",
      "safe landing - well done!\n",
      "\n",
      "X0=[5060, 2659] V0=[0.0, 22.445532486063527]\n",
      "e= -48.616 Pout=  -9.723 power=   0.000\n",
      "i=000 X=[5060.000 2661.207] V=[   0.000   22.074] thrust=[   0.000    0.000] fuel= 200.000\n",
      "e= -11.876 Pout=  -2.375 power=   0.000\n",
      "i=100 X=[5060.000 2694.546] V=[   0.000  -15.036] thrust=[   0.000    0.000] fuel= 200.000\n",
      "e=  15.358 Pout=   3.072 power=   3.072\n",
      "i=200 X=[5060.000 2391.449] V=[   0.000  -38.955] thrust=[   0.000    3.072] fuel= 186.810\n",
      "e=  19.859 Pout=   3.972 power=   3.972\n",
      "i=300 X=[5060.000 1992.763] V=[   0.000  -39.380] thrust=[   0.000    3.972] fuel= 150.125\n",
      "e=  20.783 Pout=   4.157 power=   4.000\n",
      "i=400 X=[5060.000 1613.412] V=[   0.000  -36.505] thrust=[   0.000    4.000] fuel= 110.139\n",
      "e=  21.401 Pout=   4.280 power=   4.000\n",
      "i=500 X=[5060.000 1262.958] V=[   0.000  -33.615] thrust=[   0.000    4.000] fuel=  70.139\n",
      "safe landing - well done!\n",
      "\n",
      "X0=[5060, 1880] V0=[0.0, -14.22710811909782]\n",
      "e=  -4.153 Pout=  -0.831 power=   0.000\n",
      "i=000 X=[5060.000 1878.540] V=[   0.000  -14.598] thrust=[   0.000    0.000] fuel= 200.000\n",
      "e=  16.735 Pout=   3.347 power=   3.347\n",
      "i=100 X=[5060.000 1610.894] V=[   0.000  -32.493] thrust=[   0.000    3.347] fuel= 180.785\n",
      "e=  19.731 Pout=   3.946 power=   3.946\n",
      "i=200 X=[5060.000 1283.049] V=[   0.000  -32.150] thrust=[   0.000    3.946] fuel= 143.332\n",
      "safe landing - well done!\n",
      "\n",
      "X0=[5060, 2882] V0=[0.0, -17.704108614682177]\n",
      "e= -10.696 Pout=  -2.139 power=   0.000\n",
      "i=000 X=[5060.000 2880.192] V=[   0.000  -18.075] thrust=[   0.000    0.000] fuel= 200.000\n",
      "e=  15.749 Pout=   3.150 power=   3.150\n",
      "i=100 X=[5060.000 2551.282] V=[   0.000  -40.939] thrust=[   0.000    3.150] fuel= 185.754\n",
      "e=  19.983 Pout=   3.997 power=   3.997\n",
      "i=200 X=[5060.000 2135.371] V=[   0.000  -40.929] thrust=[   0.000    3.997] fuel= 148.634\n",
      "e=  21.044 Pout=   4.209 power=   4.000\n",
      "i=300 X=[5060.000 1740.671] V=[   0.000  -38.040] thrust=[   0.000    4.000] fuel= 108.634\n",
      "e=  21.815 Pout=   4.363 power=   4.000\n",
      "i=400 X=[5060.000 1374.870] V=[   0.000  -35.150] thrust=[   0.000    4.000] fuel=  68.634\n",
      "safe landing - well done!\n",
      "\n",
      "X0=[5060, 2362] V0=[0.0, -27.17367691210444]\n",
      "e=   3.974 Pout=   0.795 power=   0.795\n",
      "i=000 X=[5060.000 2359.253] V=[   0.000  -27.465] thrust=[   0.000    0.795] fuel= 199.921\n",
      "e=  18.194 Pout=   3.639 power=   3.639\n",
      "i=100 X=[5060.000 2009.699] V=[   0.000  -37.916] thrust=[   0.000    3.639] fuel= 173.261\n",
      "e=  20.130 Pout=   4.026 power=   4.000\n",
      "i=200 X=[5060.000 1636.912] V=[   0.000  -36.086] thrust=[   0.000    4.000] fuel= 134.322\n",
      "e=  20.706 Pout=   4.141 power=   4.000\n",
      "i=300 X=[5060.000 1290.642] V=[   0.000  -33.196] thrust=[   0.000    4.000] fuel=  94.322\n",
      "safe landing - well done!\n",
      "\n",
      "X0=[5060, 2088] V0=[0.0, 13.097612385448777]\n",
      "e= -33.558 Pout=  -6.712 power=   0.000\n",
      "i=000 X=[5060.000 2089.273] V=[   0.000   12.727] thrust=[   0.000    0.000] fuel= 200.000\n",
      "e=   3.747 Pout=   0.749 power=   0.749\n",
      "i=100 X=[5060.000 2029.320] V=[   0.000  -23.940] thrust=[   0.000    0.749] fuel= 199.556\n",
      "e=  18.022 Pout=   3.604 power=   3.604\n",
      "i=200 X=[5060.000 1712.978] V=[   0.000  -34.777] thrust=[   0.000    3.604] fuel= 173.284\n",
      "e=  19.961 Pout=   3.992 power=   3.992\n",
      "i=300 X=[5060.000 1369.943] V=[   0.000  -33.245] thrust=[   0.000    3.992] fuel= 134.642\n",
      "e=  20.256 Pout=   4.051 power=   4.000\n",
      "i=400 X=[5060.000 1052.057] V=[   0.000  -30.358] thrust=[   0.000    4.000] fuel=  94.645\n",
      "safe landing - well done!\n",
      "\n",
      "X0=[5060, 1606] V0=[0.0, 27.700443888978043]\n",
      "e= -43.340 Pout=  -8.668 power=   0.000\n",
      "i=000 X=[5060.000 1608.733] V=[   0.000   27.329] thrust=[   0.000    0.000] fuel= 200.000\n",
      "e=  -7.126 Pout=  -1.425 power=   0.000\n",
      "i=100 X=[5060.000 1694.621] V=[   0.000   -9.781] thrust=[   0.000    0.000] fuel= 200.000\n",
      "e=  16.070 Pout=   3.214 power=   3.214\n",
      "i=200 X=[5060.000 1460.737] V=[   0.000  -30.338] thrust=[   0.000    3.214] fuel= 183.447\n",
      "e=  19.571 Pout=   3.914 power=   3.914\n",
      "i=300 X=[5060.000 1150.276] V=[   0.000  -30.664] thrust=[   0.000    3.914] fuel= 146.664\n",
      "safe landing - well done!\n",
      "\n",
      "X0=[5060, 2343] V0=[0.0, -6.913723667035619]\n",
      "e= -16.096 Pout=  -3.219 power=   0.000\n",
      "i=000 X=[5060.000 2342.272] V=[   0.000   -7.285] thrust=[   0.000    0.000] fuel= 200.000\n",
      "e=  13.913 Pout=   2.783 power=   2.783\n",
      "i=100 X=[5060.000 2103.258] V=[   0.000  -34.653] thrust=[   0.000    2.783] fuel= 190.258\n",
      "e=  19.529 Pout=   3.906 power=   3.906\n",
      "i=200 X=[5060.000 1738.617] V=[   0.000  -36.512] thrust=[   0.000    3.906] fuel= 155.007\n",
      "e=  20.333 Pout=   4.067 power=   4.000\n",
      "i=300 X=[5060.000 1386.667] V=[   0.000  -33.784] thrust=[   0.000    4.000] fuel= 115.169\n",
      "e=  20.678 Pout=   4.136 power=   4.000\n",
      "i=400 X=[5060.000 1063.419] V=[   0.000  -30.894] thrust=[   0.000    4.000] fuel=  75.169\n",
      "safe landing - well done!\n",
      "\n",
      "X0=[5060, 2918] V0=[0.0, -34.59177581531533]\n",
      "e=   5.832 Pout=   1.166 power=   1.166\n",
      "i=000 X=[5060.000 2914.515] V=[   0.000  -34.846] thrust=[   0.000    1.166] fuel= 199.883\n",
      "e=  18.697 Pout=   3.739 power=   3.739\n",
      "i=100 X=[5060.000 2503.105] V=[   0.000  -43.348] thrust=[   0.000    3.739] fuel= 171.276\n",
      "e=  20.614 Pout=   4.123 power=   4.000\n",
      "i=200 X=[5060.000 2079.592] V=[   0.000  -41.002] thrust=[   0.000    4.000] fuel= 131.820\n",
      "e=  21.682 Pout=   4.336 power=   4.000\n",
      "i=300 X=[5060.000 1684.162] V=[   0.000  -38.112] thrust=[   0.000    4.000] fuel=  91.820\n",
      "e=  22.460 Pout=   4.492 power=   4.000\n",
      "i=400 X=[5060.000 1317.632] V=[   0.000  -35.222] thrust=[   0.000    4.000] fuel=  51.820\n",
      "safe landing - well done!\n",
      "\n",
      "X0=[5060, 1646] V0=[0.0, -18.773877702753474]\n",
      "e=   2.734 Pout=   0.547 power=   0.547\n",
      "i=000 X=[5060.000 1644.091] V=[   0.000  -19.090] thrust=[   0.000    0.547] fuel= 199.945\n",
      "e=  17.713 Pout=   3.543 power=   3.543\n",
      "i=100 X=[5060.000 1369.547] V=[   0.000  -31.036] thrust=[   0.000    3.543] fuel= 174.781\n"
     ]
    },
    {
     "name": "stdout",
     "output_type": "stream",
     "text": [
      "e=  19.771 Pout=   3.954 power=   3.954\n",
      "i=200 X=[5060.000 1061.377] V=[   0.000  -29.971] thrust=[   0.000    3.954] fuel= 136.606\n",
      "safe landing - well done!\n",
      "\n",
      "X0=[5060, 2503] V0=[0.0, 25.03787047668483]\n",
      "e= -49.648 Pout=  -9.930 power=   0.000\n",
      "i=000 X=[5060.000 2505.467] V=[   0.000   24.667] thrust=[   0.000    0.000] fuel= 200.000\n",
      "e= -13.168 Pout=  -2.634 power=   0.000\n",
      "i=100 X=[5060.000 2564.729] V=[   0.000  -12.443] thrust=[   0.000    0.000] fuel= 200.000\n",
      "e=  14.938 Pout=   2.988 power=   2.988\n",
      "i=200 X=[5060.000 2283.014] V=[   0.000  -37.458] thrust=[   0.000    2.988] fuel= 187.904\n",
      "e=  19.753 Pout=   3.951 power=   3.951\n",
      "i=300 X=[5060.000 1896.639] V=[   0.000  -38.314] thrust=[   0.000    3.951] fuel= 151.650\n",
      "e=  20.607 Pout=   4.121 power=   4.000\n",
      "i=400 X=[5060.000 1527.664] V=[   0.000  -35.470] thrust=[   0.000    4.000] fuel= 111.697\n",
      "e=  21.121 Pout=   4.224 power=   4.000\n",
      "i=500 X=[5060.000 1187.560] V=[   0.000  -32.580] thrust=[   0.000    4.000] fuel=  71.697\n",
      "safe landing - well done!\n",
      "\n",
      "X0=[5060, 1658] V0=[0.0, 1.1763375266169547]\n",
      "e= -17.336 Pout=  -3.467 power=   0.000\n",
      "i=000 X=[5060.000 1658.081] V=[   0.000    0.805] thrust=[   0.000    0.000] fuel= 200.000\n",
      "e=  13.149 Pout=   2.630 power=   2.630\n",
      "i=100 X=[5060.000 1495.876] V=[   0.000  -27.824] thrust=[   0.000    2.630] fuel= 191.519\n",
      "e=  19.162 Pout=   3.832 power=   3.832\n",
      "i=200 X=[5060.000 1193.773] V=[   0.000  -30.699] thrust=[   0.000    3.832] fuel= 157.284\n",
      "safe landing - well done!\n",
      "\n",
      "X0=[5060, 2889] V0=[0.0, 12.395295179211118]\n",
      "e= -40.865 Pout=  -8.173 power=   0.000\n",
      "i=000 X=[5060.000 2890.202] V=[   0.000   12.024] thrust=[   0.000    0.000] fuel= 200.000\n",
      "e=  -3.121 Pout=  -0.624 power=   0.000\n",
      "i=100 X=[5060.000 2823.039] V=[   0.000  -25.086] thrust=[   0.000    0.000] fuel= 200.000\n",
      "e=  17.316 Pout=   3.463 power=   3.463\n",
      "i=200 X=[5060.000 2457.895] V=[   0.000  -41.542] thrust=[   0.000    3.463] fuel= 179.346\n",
      "e=  20.202 Pout=   4.040 power=   4.000\n",
      "i=300 X=[5060.000 2044.773] V=[   0.000  -40.241] thrust=[   0.000    4.000] fuel= 140.935\n",
      "e=  21.193 Pout=   4.239 power=   4.000\n",
      "i=400 X=[5060.000 1656.958] V=[   0.000  -37.351] thrust=[   0.000    4.000] fuel= 100.935\n",
      "e=  21.895 Pout=   4.379 power=   4.000\n",
      "i=500 X=[5060.000 1298.042] V=[   0.000  -34.461] thrust=[   0.000    4.000] fuel=  60.935\n",
      "safe landing - well done!\n",
      "\n",
      "count/trials = 1.0\n"
     ]
    }
   ],
   "source": [
    "# Test 2 - random initial vertical velocity\n",
    "\n",
    "np.random.seed(123) # seed random number generator for reproducible results\n",
    "land, landing_site = mars_surface()\n",
    "\n",
    "trials = 20\n",
    "count = 0\n",
    "for i in range(trials):\n",
    "    X0 = [(land[landing_site+1, 0] + land[landing_site, 0]) // 2, randint(1500, 3000)]\n",
    "    V0 = [0., np.random.uniform(-50, 50)]  \n",
    "    print(f'X0={X0} V0={V0}')\n",
    "    Xs, Vs, thrust, success = simulate(X0, V0, land, landing_site, dt=0.1, Nstep=2000, \n",
    "                                       autopilot=proportional_autopilot, fuel=200)\n",
    "    count += success\n",
    "    print()\n",
    "\n",
    "print(f'count/trials = {count/trials}')\n",
    "assert count/trials > 0.8 # require 80% success rate"
   ]
  },
  {
   "cell_type": "code",
   "execution_count": 220,
   "metadata": {
    "nbgrader": {
     "grade": true,
     "grade_id": "cell-fc08c836395ce2c6",
     "locked": true,
     "points": 5,
     "schema_version": 3,
     "solution": false
    },
    "scrolled": true
   },
   "outputs": [
    {
     "name": "stdout",
     "output_type": "stream",
     "text": [
      "X0=[5060, 2138] V0=[0.0, 0.0]\n",
      "e= -20.960 Pout=  -4.192 power=   0.000\n",
      "i=000 X=[5060.000 2137.963] V=[   0.000   -0.371] thrust=[   0.000    0.000] fuel= 200.000\n",
      "e=  11.910 Pout=   2.382 power=   2.382\n",
      "i=100 X=[5060.000 1957.308] V=[   0.000  -31.227] thrust=[   0.000    2.382] fuel= 193.746\n",
      "e=  19.176 Pout=   3.835 power=   3.835\n",
      "i=200 X=[5060.000 1615.042] V=[   0.000  -34.929] thrust=[   0.000    3.835] fuel= 160.338\n",
      "e=  20.115 Pout=   4.023 power=   4.000\n",
      "i=300 X=[5060.000 1276.898] V=[   0.000  -32.468] thrust=[   0.000    4.000] fuel= 120.767\n",
      "safe landing - well done!\n",
      "\n",
      "X0=[3554, 2846] V0=[0.0, 0.0]\n",
      "e= -37.340 Pout=  -7.468 power=   0.000\n",
      "i=000 X=[3554.000 2845.963] V=[   0.000   -0.371] thrust=[   0.000    0.000] fuel= 200.000\n",
      "e=   1.595 Pout=   0.319 power=   0.319\n",
      "i=100 X=[3554.000 2654.863] V=[   0.000  -37.400] thrust=[   0.000    0.319] fuel= 199.919\n",
      "e=  18.364 Pout=   3.673 power=   3.673\n",
      "i=200 X=[3554.000 2194.949] V=[   0.000  -49.246] thrust=[   0.000    3.673] fuel= 174.655\n",
      "e=  20.983 Pout=   4.197 power=   4.000\n",
      "i=300 X=[3554.000 1711.570] V=[   0.000  -46.996] thrust=[   0.000    4.000] fuel= 135.295\n",
      "e=  22.649 Pout=   4.530 power=   4.000\n",
      "i=400 X=[3554.000 1256.199] V=[   0.000  -44.106] thrust=[   0.000    4.000] fuel=  95.295\n",
      "e=  24.027 Pout=   4.805 power=   4.000\n",
      "i=500 X=[3554.000  829.729] V=[   0.000  -41.216] thrust=[   0.000    4.000] fuel=  55.295\n",
      "e=  25.115 Pout=   5.023 power=   4.000\n",
      "i=600 X=[3554.000  432.158] V=[   0.000  -38.326] thrust=[   0.000    4.000] fuel=  15.295\n",
      "Fuel empty! Setting thrust to zero\n",
      "crash! vertical speed must be limited (<40m/s in absolute value), got  51.67229231059829\n",
      "\n",
      "X0=[4569, 1790] V0=[0.0, 0.0]\n",
      "e= -16.300 Pout=  -3.260 power=   0.000\n",
      "i=000 X=[4569.000 1789.963] V=[   0.000   -0.371] thrust=[   0.000    0.000] fuel= 200.000\n",
      "e=  13.530 Pout=   2.706 power=   2.706\n",
      "i=100 X=[4569.000 1618.528] V=[   0.000  -28.244] thrust=[   0.000    2.706] fuel= 190.762\n",
      "e=  19.219 Pout=   3.844 power=   3.844\n",
      "i=200 X=[4569.000 1314.434] V=[   0.000  -30.781] thrust=[   0.000    3.844] fuel= 156.190\n",
      "safe landing - well done!\n",
      "\n",
      "X0=[4653, 2326] V0=[0.0, 0.0]\n",
      "e= -32.190 Pout=  -6.438 power=   0.000\n",
      "i=000 X=[4653.000 2325.963] V=[   0.000   -0.371] thrust=[   0.000    0.000] fuel= 200.000\n",
      "e=   5.818 Pout=   1.164 power=   1.164\n",
      "i=100 X=[4653.000 2135.543] V=[   0.000  -36.395] thrust=[   0.000    1.164] fuel= 198.914\n",
      "e=  18.761 Pout=   3.752 power=   3.752\n",
      "i=200 X=[4653.000 1708.915] V=[   0.000  -44.820] thrust=[   0.000    3.752] fuel= 170.229\n",
      "e=  20.753 Pout=   4.151 power=   4.000\n",
      "i=300 X=[4653.000 1271.180] V=[   0.000  -42.409] thrust=[   0.000    4.000] fuel= 130.708\n",
      "e=  21.961 Pout=   4.392 power=   4.000\n",
      "i=400 X=[4653.000  861.688] V=[   0.000  -39.519] thrust=[   0.000    4.000] fuel=  90.708\n",
      "e=  22.880 Pout=   4.576 power=   4.000\n",
      "i=500 X=[4653.000  481.095] V=[   0.000  -36.629] thrust=[   0.000    4.000] fuel=  50.708\n",
      "e=  23.510 Pout=   4.702 power=   4.000\n",
      "i=600 X=[4653.000  129.403] V=[   0.000  -33.739] thrust=[   0.000    4.000] fuel=  10.708\n",
      "safe landing - well done!\n",
      "\n",
      "X0=[5167, 2768] V0=[0.0, 0.0]\n",
      "e= -27.640 Pout=  -5.528 power=   0.000\n",
      "i=000 X=[5167.000 2767.963] V=[   0.000   -0.371] thrust=[   0.000    0.000] fuel= 200.000\n",
      "e=   8.728 Pout=   1.746 power=   1.746\n",
      "i=100 X=[5167.000 2579.741] V=[   0.000  -34.717] thrust=[   0.000    1.746] fuel= 197.236\n",
      "e=  18.992 Pout=   3.798 power=   3.798\n",
      "i=200 X=[5167.000 2185.682] V=[   0.000  -40.841] thrust=[   0.000    3.798] fuel= 166.250\n",
      "e=  20.506 Pout=   4.101 power=   4.000\n",
      "i=300 X=[5167.000 1788.375] V=[   0.000  -38.359] thrust=[   0.000    4.000] fuel= 126.658\n",
      "e=  21.309 Pout=   4.262 power=   4.000\n",
      "i=400 X=[5167.000 1419.375] V=[   0.000  -35.469] thrust=[   0.000    4.000] fuel=  86.658\n",
      "e=  21.823 Pout=   4.365 power=   4.000\n",
      "i=500 X=[5167.000 1079.275] V=[   0.000  -32.579] thrust=[   0.000    4.000] fuel=  46.658\n",
      "safe landing - well done!\n",
      "\n",
      "X0=[4555, 2828] V0=[0.0, 0.0]\n",
      "e= -32.720 Pout=  -6.544 power=   0.000\n",
      "i=000 X=[4555.000 2827.963] V=[   0.000   -0.371] thrust=[   0.000    0.000] fuel= 200.000\n",
      "e=   5.432 Pout=   1.086 power=   1.086\n",
      "i=100 X=[4555.000 2637.404] V=[   0.000  -36.545] thrust=[   0.000    1.086] fuel= 199.064\n",
      "e=  18.727 Pout=   3.745 power=   3.745\n",
      "i=200 X=[4555.000 2207.160] V=[   0.000  -45.280] thrust=[   0.000    3.745] fuel= 170.689\n",
      "e=  20.780 Pout=   4.156 power=   4.000\n",
      "i=300 X=[4555.000 1764.718] V=[   0.000  -42.881] thrust=[   0.000    4.000] fuel= 131.180\n",
      "e=  22.035 Pout=   4.407 power=   4.000\n",
      "i=400 X=[4555.000 1350.504] V=[   0.000  -39.991] thrust=[   0.000    4.000] fuel=  91.180\n",
      "e=  23.001 Pout=   4.600 power=   4.000\n",
      "i=500 X=[4555.000  965.190] V=[   0.000  -37.101] thrust=[   0.000    4.000] fuel=  51.180\n",
      "e=  23.678 Pout=   4.736 power=   4.000\n",
      "i=600 X=[4555.000  608.776] V=[   0.000  -34.211] thrust=[   0.000    4.000] fuel=  11.180\n",
      "safe landing - well done!\n",
      "\n",
      "X0=[3099, 2611] V0=[0.0, 0.0]\n",
      "e= -25.190 Pout=  -5.038 power=   0.000\n",
      "i=000 X=[3099.000 2610.963] V=[   0.000   -0.371] thrust=[   0.000    0.000] fuel= 200.000\n",
      "e=  10.030 Pout=   2.006 power=   2.006\n",
      "i=100 X=[3099.000 2424.834] V=[   0.000  -33.562] thrust=[   0.000    2.006] fuel= 196.081\n",
      "e=  19.079 Pout=   3.816 power=   3.816\n",
      "i=200 X=[3099.000 2049.294] V=[   0.000  -38.680] thrust=[   0.000    3.816] fuel= 164.089\n",
      "e=  20.362 Pout=   4.072 power=   4.000\n",
      "i=300 X=[3099.000 1673.740] V=[   0.000  -36.187] thrust=[   0.000    4.000] fuel= 124.486\n",
      "e=  20.948 Pout=   4.190 power=   4.000\n",
      "i=400 X=[3099.000 1326.466] V=[   0.000  -33.297] thrust=[   0.000    4.000] fuel=  84.486\n",
      "safe landing - well done!\n",
      "\n",
      "X0=[5536, 1516] V0=[0.0, 0.0]\n",
      "e= -23.750 Pout=  -4.750 power=   0.000\n",
      "i=000 X=[5536.000 1515.963] V=[   0.000   -0.371] thrust=[   0.000    0.000] fuel= 200.000\n",
      "e=  10.719 Pout=   2.144 power=   2.144\n",
      "i=100 X=[5536.000 1331.415] V=[   0.000  -32.813] thrust=[   0.000    2.144] fuel= 195.332\n",
      "e=  19.119 Pout=   3.824 power=   3.824\n",
      "i=200 X=[5536.000  967.031] V=[   0.000  -37.406] thrust=[   0.000    3.824] fuel= 162.815\n",
      "e=  20.276 Pout=   4.055 power=   4.000\n",
      "i=300 X=[5536.000  604.239] V=[   0.000  -34.915] thrust=[   0.000    4.000] fuel= 123.214\n",
      "e=  20.735 Pout=   4.147 power=   4.000\n",
      "i=400 X=[5536.000  269.687] V=[   0.000  -32.025] thrust=[   0.000    4.000] fuel=  83.214\n",
      "safe landing - well done!\n",
      "\n",
      "X0=[3676, 2479] V0=[0.0, 0.0]\n",
      "e= -34.320 Pout=  -6.864 power=   0.000\n",
      "i=000 X=[3676.000 2478.963] V=[   0.000   -0.371] thrust=[   0.000    0.000] fuel= 200.000\n",
      "e=   4.203 Pout=   0.841 power=   0.841\n",
      "i=100 X=[3676.000 2288.095] V=[   0.000  -36.938] thrust=[   0.000    0.841] fuel= 199.457\n",
      "e=  18.616 Pout=   3.723 power=   3.723\n",
      "i=200 X=[3676.000 1847.185] V=[   0.000  -46.663] thrust=[   0.000    3.723] fuel= 172.072\n",
      "e=  20.856 Pout=   4.171 power=   4.000\n",
      "i=300 X=[3676.000 1390.546] V=[   0.000  -44.306] thrust=[   0.000    4.000] fuel= 132.605\n",
      "e=  22.253 Pout=   4.451 power=   4.000\n",
      "i=400 X=[3676.000  962.076] V=[   0.000  -41.416] thrust=[   0.000    4.000] fuel=  92.605\n",
      "e=  23.362 Pout=   4.672 power=   4.000\n",
      "i=500 X=[3676.000  562.506] V=[   0.000  -38.526] thrust=[   0.000    4.000] fuel=  52.605\n",
      "e=  24.181 Pout=   4.836 power=   4.000\n",
      "i=600 X=[3676.000  191.836] V=[   0.000  -35.636] thrust=[   0.000    4.000] fuel=  12.605\n",
      "Fuel empty! Setting thrust to zero\n",
      "safe landing - well done!\n",
      "\n",
      "X0=[5254, 2888] V0=[0.0, 0.0]\n",
      "e= -35.660 Pout=  -7.132 power=   0.000\n",
      "i=000 X=[5254.000 2887.963] V=[   0.000   -0.371] thrust=[   0.000    0.000] fuel= 200.000\n",
      "e=   3.094 Pout=   0.619 power=   0.619\n",
      "i=100 X=[5254.000 2696.946] V=[   0.000  -37.190] thrust=[   0.000    0.619] fuel= 199.709\n",
      "e=  18.511 Pout=   3.702 power=   3.702\n",
      "i=200 X=[5254.000 2247.411] V=[   0.000  -47.814] thrust=[   0.000    3.702] fuel= 173.223\n",
      "e=  20.915 Pout=   4.183 power=   4.000\n",
      "i=300 X=[5254.000 1778.897] V=[   0.000  -45.500] thrust=[   0.000    4.000] fuel= 133.799\n",
      "e=  22.432 Pout=   4.486 power=   4.000\n",
      "i=400 X=[5254.000 1338.488] V=[   0.000  -42.610] thrust=[   0.000    4.000] fuel=  93.799\n",
      "e=  23.660 Pout=   4.732 power=   4.000\n",
      "i=500 X=[5254.000  926.980] V=[   0.000  -39.720] thrust=[   0.000    4.000] fuel=  53.799\n",
      "e=  24.599 Pout=   4.920 power=   4.000\n",
      "i=600 X=[5254.000  544.372] V=[   0.000  -36.830] thrust=[   0.000    4.000] fuel=  13.799\n",
      "Fuel empty! Setting thrust to zero\n",
      "crash! vertical speed must be limited (<40m/s in absolute value), got  44.72519678386183\n",
      "\n",
      "X0=[5284, 1508] V0=[0.0, 0.0]\n",
      "e= -11.060 Pout=  -2.212 power=   0.000\n",
      "i=000 X=[5284.000 1507.963] V=[   0.000   -0.371] thrust=[   0.000    0.000] fuel= 200.000\n",
      "safe landing - well done!\n",
      "\n",
      "X0=[3845, 2964] V0=[0.0, 0.0]\n",
      "e= -34.110 Pout=  -6.822 power=   0.000\n",
      "i=000 X=[3845.000 2963.963] V=[   0.000   -0.371] thrust=[   0.000    0.000] fuel= 200.000\n",
      "e=   4.371 Pout=   0.874 power=   0.874\n",
      "i=100 X=[3845.000 2773.126] V=[   0.000  -36.893] thrust=[   0.000    0.874] fuel= 199.412\n",
      "e=  18.631 Pout=   3.726 power=   3.726\n",
      "i=200 X=[3845.000 2333.589] V=[   0.000  -46.482] thrust=[   0.000    3.726] fuel= 171.891\n",
      "e=  20.846 Pout=   4.169 power=   4.000\n",
      "i=300 X=[3845.000 1878.813] V=[   0.000  -44.119] thrust=[   0.000    4.000] fuel= 132.418\n",
      "e=  22.225 Pout=   4.445 power=   4.000\n",
      "i=400 X=[3845.000 1452.214] V=[   0.000  -41.229] thrust=[   0.000    4.000] fuel=  92.418\n",
      "e=  23.315 Pout=   4.663 power=   4.000\n",
      "i=500 X=[3845.000 1054.515] V=[   0.000  -38.339] thrust=[   0.000    4.000] fuel=  52.418\n",
      "e=  24.116 Pout=   4.823 power=   4.000\n",
      "i=600 X=[3845.000  685.716] V=[   0.000  -35.449] thrust=[   0.000    4.000] fuel=  12.418\n",
      "Fuel empty! Setting thrust to zero\n",
      "safe landing - well done!\n",
      "\n",
      "X0=[5071, 1975] V0=[0.0, 0.0]\n",
      "e= -18.620 Pout=  -3.724 power=   0.000\n",
      "i=000 X=[5071.000 1974.963] V=[   0.000   -0.371] thrust=[   0.000    0.000] fuel= 200.000\n",
      "e=  12.777 Pout=   2.555 power=   2.555\n",
      "i=100 X=[5071.000 1798.489] V=[   0.000  -29.777] thrust=[   0.000    2.555] fuel= 192.296\n",
      "e=  19.206 Pout=   3.841 power=   3.841\n",
      "i=200 X=[5071.000 1475.219] V=[   0.000  -32.848] thrust=[   0.000    3.841] fuel= 158.257\n",
      "e=  20.003 Pout=   4.001 power=   4.000\n",
      "i=300 X=[5071.000 1157.627] V=[   0.000  -30.450] thrust=[   0.000    4.000] fuel= 118.749\n",
      "safe landing - well done!\n",
      "\n",
      "X0=[3061, 1781] V0=[0.0, 0.0]\n",
      "e= -22.060 Pout=  -4.412 power=   0.000\n",
      "i=000 X=[3061.000 1780.963] V=[   0.000   -0.371] thrust=[   0.000    0.000] fuel= 200.000\n",
      "e=  11.462 Pout=   2.292 power=   2.292\n",
      "i=100 X=[3061.000 1598.638] V=[   0.000  -31.872] thrust=[   0.000    2.292] fuel= 194.391\n",
      "e=  19.157 Pout=   3.831 power=   3.831\n",
      "i=200 X=[3061.000 1247.579] V=[   0.000  -35.907] thrust=[   0.000    3.831] fuel= 161.316\n",
      "e=  20.177 Pout=   4.035 power=   4.000\n",
      "i=300 X=[3061.000  899.733] V=[   0.000  -33.429] thrust=[   0.000    4.000] fuel= 121.728\n"
     ]
    },
    {
     "name": "stdout",
     "output_type": "stream",
     "text": [
      "e=  20.487 Pout=   4.097 power=   4.000\n",
      "i=400 X=[3061.000  580.039] V=[   0.000  -30.539] thrust=[   0.000    4.000] fuel=  81.728\n",
      "safe landing - well done!\n",
      "\n",
      "X0=[4629, 2149] V0=[0.0, 0.0]\n",
      "e= -24.300 Pout=  -4.860 power=   0.000\n",
      "i=000 X=[4629.000 2148.963] V=[   0.000   -0.371] thrust=[   0.000    0.000] fuel= 200.000\n",
      "e=  10.462 Pout=   2.092 power=   2.092\n",
      "i=100 X=[4629.000 1963.780] V=[   0.000  -33.105] thrust=[   0.000    2.092] fuel= 195.624\n",
      "e=  19.105 Pout=   3.821 power=   3.821\n",
      "i=200 X=[4629.000 1595.114] V=[   0.000  -37.893] thrust=[   0.000    3.821] fuel= 163.302\n",
      "e=  20.309 Pout=   4.062 power=   4.000\n",
      "i=300 X=[4629.000 1227.450] V=[   0.000  -35.400] thrust=[   0.000    4.000] fuel= 123.699\n",
      "e=  20.816 Pout=   4.163 power=   4.000\n",
      "i=400 X=[4629.000  888.044] V=[   0.000  -32.510] thrust=[   0.000    4.000] fuel=  83.699\n",
      "safe landing - well done!\n",
      "\n",
      "X0=[3911, 2231] V0=[0.0, 0.0]\n",
      "e= -18.130 Pout=  -3.626 power=   0.000\n",
      "i=000 X=[3911.000 2230.963] V=[   0.000   -0.371] thrust=[   0.000    0.000] fuel= 200.000\n",
      "e=  12.944 Pout=   2.589 power=   2.589\n",
      "i=100 X=[3911.000 2055.479] V=[   0.000  -29.460] thrust=[   0.000    2.589] fuel= 191.979\n",
      "e=  19.210 Pout=   3.842 power=   3.842\n",
      "i=200 X=[3911.000 1736.234] V=[   0.000  -32.411] thrust=[   0.000    3.842] fuel= 157.820\n",
      "e=  19.985 Pout=   3.997 power=   3.997\n",
      "i=300 X=[3911.000 1422.930] V=[   0.000  -30.035] thrust=[   0.000    3.997] fuel= 118.334\n",
      "safe landing - well done!\n",
      "\n",
      "X0=[3781, 2845] V0=[0.0, 0.0]\n",
      "e= -31.790 Pout=  -6.358 power=   0.000\n",
      "i=000 X=[3781.000 2844.963] V=[   0.000   -0.371] thrust=[   0.000    0.000] fuel= 200.000\n",
      "e=   6.102 Pout=   1.220 power=   1.220\n",
      "i=100 X=[3781.000 2654.663] V=[   0.000  -36.274] thrust=[   0.000    1.220] fuel= 198.793\n",
      "e=  18.785 Pout=   3.757 power=   3.757\n",
      "i=200 X=[3781.000 2230.791] V=[   0.000  -44.473] thrust=[   0.000    3.757] fuel= 169.882\n",
      "e=  20.733 Pout=   4.147 power=   4.000\n",
      "i=300 X=[3781.000 1796.608] V=[   0.000  -42.052] thrust=[   0.000    4.000] fuel= 130.351\n",
      "e=  21.905 Pout=   4.381 power=   4.000\n",
      "i=400 X=[3781.000 1390.679] V=[   0.000  -39.162] thrust=[   0.000    4.000] fuel=  90.351\n",
      "e=  22.788 Pout=   4.558 power=   4.000\n",
      "i=500 X=[3781.000 1013.650] V=[   0.000  -36.272] thrust=[   0.000    4.000] fuel=  50.351\n",
      "e=  23.383 Pout=   4.677 power=   4.000\n",
      "i=600 X=[3781.000  665.521] V=[   0.000  -33.382] thrust=[   0.000    4.000] fuel=  10.351\n",
      "safe landing - well done!\n",
      "\n",
      "X0=[4503, 2318] V0=[0.0, 0.0]\n",
      "e= -23.390 Pout=  -4.678 power=   0.000\n",
      "i=000 X=[4503.000 2317.963] V=[   0.000   -0.371] thrust=[   0.000    0.000] fuel= 200.000\n",
      "e=  10.883 Pout=   2.177 power=   2.177\n",
      "i=100 X=[4503.000 2133.855] V=[   0.000  -32.618] thrust=[   0.000    2.177] fuel= 195.137\n",
      "e=  19.128 Pout=   3.826 power=   3.826\n",
      "i=200 X=[4503.000 1772.289] V=[   0.000  -37.087] thrust=[   0.000    3.826] fuel= 162.496\n",
      "e=  20.255 Pout=   4.051 power=   4.000\n",
      "i=300 X=[4503.000 1412.685] V=[   0.000  -34.597] thrust=[   0.000    4.000] fuel= 122.896\n",
      "e=  20.682 Pout=   4.136 power=   4.000\n",
      "i=400 X=[4503.000 1081.305] V=[   0.000  -31.707] thrust=[   0.000    4.000] fuel=  82.896\n",
      "safe landing - well done!\n",
      "\n",
      "X0=[3601, 2538] V0=[0.0, 0.0]\n",
      "e= -31.980 Pout=  -6.396 power=   0.000\n",
      "i=000 X=[3601.000 2537.963] V=[   0.000   -0.371] thrust=[   0.000    0.000] fuel= 200.000\n",
      "e=   5.968 Pout=   1.194 power=   1.194\n",
      "i=100 X=[3601.000 2347.605] V=[   0.000  -36.332] thrust=[   0.000    1.194] fuel= 198.851\n",
      "e=  18.773 Pout=   3.755 power=   3.755\n",
      "i=200 X=[3601.000 1922.421] V=[   0.000  -44.638] thrust=[   0.000    3.755] fuel= 170.047\n",
      "e=  20.743 Pout=   4.149 power=   4.000\n",
      "i=300 X=[3601.000 1486.551] V=[   0.000  -42.222] thrust=[   0.000    4.000] fuel= 130.520\n",
      "e=  21.932 Pout=   4.386 power=   4.000\n",
      "i=400 X=[3601.000 1078.929] V=[   0.000  -39.332] thrust=[   0.000    4.000] fuel=  90.520\n",
      "e=  22.832 Pout=   4.566 power=   4.000\n",
      "i=500 X=[3601.000  700.208] V=[   0.000  -36.442] thrust=[   0.000    4.000] fuel=  50.520\n",
      "e=  23.443 Pout=   4.689 power=   4.000\n",
      "i=600 X=[3601.000  350.386] V=[   0.000  -33.552] thrust=[   0.000    4.000] fuel=  10.520\n",
      "safe landing - well done!\n",
      "\n",
      "X0=[5516, 2016] V0=[0.0, 0.0]\n",
      "e= -27.770 Pout=  -5.554 power=   0.000\n",
      "i=000 X=[5516.000 2015.963] V=[   0.000   -0.371] thrust=[   0.000    0.000] fuel= 200.000\n",
      "e=   8.654 Pout=   1.731 power=   1.731\n",
      "i=100 X=[5516.000 1827.650] V=[   0.000  -34.773] thrust=[   0.000    1.731] fuel= 197.292\n",
      "e=  18.987 Pout=   3.797 power=   3.797\n",
      "i=200 X=[5516.000 1432.626] V=[   0.000  -40.956] thrust=[   0.000    3.797] fuel= 166.365\n",
      "e=  20.514 Pout=   4.103 power=   4.000\n",
      "i=300 X=[5516.000 1034.164] V=[   0.000  -38.475] thrust=[   0.000    4.000] fuel= 126.774\n",
      "e=  21.328 Pout=   4.266 power=   4.000\n",
      "i=400 X=[5516.000  664.009] V=[   0.000  -35.585] thrust=[   0.000    4.000] fuel=  86.774\n",
      "e=  21.854 Pout=   4.371 power=   4.000\n",
      "i=500 X=[5516.000  322.755] V=[   0.000  -32.695] thrust=[   0.000    4.000] fuel=  46.774\n",
      "safe landing - well done!\n",
      "\n",
      "count/trials = 0.9\n"
     ]
    }
   ],
   "source": [
    "# Test 3 - random Martian surfaces\n",
    "\n",
    "np.random.seed(123) # seed random number generator for reproducible results\n",
    "\n",
    "trials = 20\n",
    "count = 0\n",
    "for i in range(trials):\n",
    "    land, landing_site = mars_surface()\n",
    "    X0 = [(land[landing_site+1, 0] + land[landing_site, 0]) // 2, randint(1500, 3000)]\n",
    "    V0 = [0., 0.] \n",
    "    print(f'X0={X0} V0={V0}')\n",
    "    Xs, Vs, thrust, success = simulate(X0, V0, land, landing_site, dt=0.1, Nstep=2000, \n",
    "                                       autopilot=proportional_autopilot, fuel=200)\n",
    "    count += success\n",
    "    print()\n",
    "\n",
    "print(f'count/trials = {count/trials}')\n",
    "assert count/trials > 0.8 # require 80% success rate"
   ]
  },
  {
   "cell_type": "markdown",
   "metadata": {},
   "source": [
    "## Bonus Question\n",
    "\n",
    "Extend your autopilot to cope with the more diffcult case where the launcher starts at a random $(x, y)$ position within 1000m either side of the centre of the landing zone."
   ]
  },
  {
   "cell_type": "code",
   "execution_count": null,
   "metadata": {
    "nbgrader": {
     "grade": true,
     "grade_id": "cell-c68fa12cab417537",
     "locked": false,
     "points": 0,
     "schema_version": 3,
     "solution": true
    }
   },
   "outputs": [],
   "source": []
  },
  {
   "cell_type": "markdown",
   "metadata": {},
   "source": [
    "## Further ideas for extensions\n",
    "\n",
    "- Extend to the fully random case where the initial position can be any point $\\mathbf{X}_0 = (x, y)$ with $0 < x < 7000$ m and $1500 < y < 3000$ m. You may have to analyse the terrain to avoid crashing into any mountains!\n",
    "- Add random horizontal wind forces and improve the autopilot to compensate for these - how large can these force be before your autopilot loses control?\n",
    "- Extend the autopilot to cover orbital re-entry with initial velocities $\\mathbf{V}_0 = (v_x, v_y)$ in the range $-500 < v_x < 500$ m/s, $-500 < v_y < 500$ m/s to model orbital re-entryas well as the final descent stage\n",
    "- How might you tune your autopilot to achieve (i) minimal fuel usage, (ii) minimal descent time, (iii) minimal peak acceleration?"
   ]
  },
  {
   "cell_type": "code",
   "execution_count": null,
   "metadata": {},
   "outputs": [],
   "source": []
  }
 ],
 "metadata": {
  "celltoolbar": "Create Assignment",
  "kernelspec": {
   "display_name": "Python 3",
   "language": "python",
   "name": "python3"
  },
  "language_info": {
   "codemirror_mode": {
    "name": "ipython",
    "version": 3
   },
   "file_extension": ".py",
   "mimetype": "text/x-python",
   "name": "python",
   "nbconvert_exporter": "python",
   "pygments_lexer": "ipython3",
   "version": "3.7.6"
  }
 },
 "nbformat": 4,
 "nbformat_minor": 2
}
